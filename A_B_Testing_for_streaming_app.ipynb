{
 "cells": [
  {
   "cell_type": "markdown",
   "metadata": {},
   "source": [
    "# PROYECTO SPRINT 11 "
   ]
  },
  {
   "cell_type": "markdown",
   "metadata": {},
   "source": [
    "- DESCRIPCION DE ACTIVIDADES DEL PROYECTO"
   ]
  },
  {
   "cell_type": "markdown",
   "metadata": {},
   "source": [
    "Trabajas en una empresa emergente que vende productos alimenticios. Debes investigar el comportamiento del usuario para la aplicación de la empresa.\n",
    "\n",
    "Primero, estudia el embudo de ventas. Descubre cómo los usuarios llegan a la etapa de compra. ¿Cuántos usuarios realmente llegan a esta etapa? ¿Cuántos se atascan en etapas anteriores? ¿Qué etapas en particular?\n",
    "\n",
    "Luego, observa los resultados de un test A/A/B (sigue leyendo para obtener más información sobre los test A/A/B). Al equipo de diseño le gustaría cambiar las fuentes de toda la aplicación, pero la gerencia teme que los usuarios piensen que el nuevo diseño es intimidante. Por ello, deciden tomar una decisión basada en los resultados de un test A/A/B.\n",
    "\n",
    "Los usuarios se dividen en tres grupos: dos grupos de control obtienen las fuentes antiguas y un grupo de prueba obtiene las nuevas. Descubre qué conjunto de fuentes produce mejores resultados.\n",
    "\n",
    "Crear dos grupos A tiene ciertas ventajas. Podemos establecer el principio de que solo confiaremos en la exactitud de nuestras pruebas cuando los dos grupos de control sean similares. Si hay diferencias significativas entre los grupos A, esto puede ayudarnos a descubrir factores que pueden estar distorsionando los resultados. La comparación de grupos de control también nos dice cuánto tiempo y datos necesitaremos cuando realicemos más tests.\n",
    "\n",
    "Utilizarás el mismo dataset para el análisis general y para el análisis A/A/B. En proyectos reales, los experimentos se llevan a cabo constantemente. El equipo de análisis estudia la calidad de una aplicación utilizando datos generales, sin prestar atención a si los usuarios participan en experimentos.\n",
    "\n",
    "Descripción de los datos\n",
    "\n",
    "Cada entrada de registro es una acción de usuario o un evento.\n",
    "\n",
    "•\tEventName: nombre del evento.\n",
    "\n",
    "•\tDeviceIDHash: identificador de usuario unívoco.\n",
    "\n",
    "•\tEventTimestamp: hora del evento.\n",
    "\n",
    "•\tExpId: número de experimento. 246 y 247 son los grupos de control, y 248 es el grupo de prueba.\n"
   ]
  },
  {
   "cell_type": "markdown",
   "metadata": {},
   "source": [
    "# Paso 1. Abrir el archivo de datos y leer la información general"
   ]
  },
  {
   "cell_type": "code",
   "execution_count": 1,
   "metadata": {},
   "outputs": [],
   "source": [
    "# cargar librerias\n",
    "\n",
    "import pandas as pd\n",
    "import seaborn as sns\n",
    "from scipy import stats as st\n",
    "import numpy as np\n",
    "import math as mth\n",
    "import matplotlib.pyplot as plt\n",
    "import datetime as dt\n",
    "import matplotlib.dates as mdates\n",
    "from datetime import datetime\n",
    "import scipy.stats as stats"
   ]
  },
  {
   "cell_type": "code",
   "execution_count": 2,
   "metadata": {},
   "outputs": [],
   "source": [
    "# cargar archivo que se va a analizar\n",
    "\n",
    "df_logs = pd.read_csv('/datasets/logs_exp_us.csv', sep='\\t') "
   ]
  },
  {
   "cell_type": "markdown",
   "metadata": {},
   "source": [
    "# Paso 2. Preparar los datos para el análisis"
   ]
  },
  {
   "cell_type": "code",
   "execution_count": 3,
   "metadata": {
    "scrolled": true
   },
   "outputs": [
    {
     "name": "stdout",
     "output_type": "stream",
     "text": [
      "<class 'pandas.core.frame.DataFrame'>\n",
      "RangeIndex: 244126 entries, 0 to 244125\n",
      "Data columns (total 4 columns):\n",
      " #   Column          Non-Null Count   Dtype \n",
      "---  ------          --------------   ----- \n",
      " 0   EventName       244126 non-null  object\n",
      " 1   DeviceIDHash    244126 non-null  int64 \n",
      " 2   EventTimestamp  244126 non-null  int64 \n",
      " 3   ExpId           244126 non-null  int64 \n",
      "dtypes: int64(3), object(1)\n",
      "memory usage: 7.5+ MB\n",
      "Index(['EventName', 'DeviceIDHash', 'EventTimestamp', 'ExpId'], dtype='object')\n"
     ]
    }
   ],
   "source": [
    "#revisar datos del data frame\n",
    "\n",
    "df_logs.info()\n",
    "print(df_logs.columns)"
   ]
  },
  {
   "cell_type": "code",
   "execution_count": 4,
   "metadata": {},
   "outputs": [
    {
     "data": {
      "text/html": [
       "<div>\n",
       "<style scoped>\n",
       "    .dataframe tbody tr th:only-of-type {\n",
       "        vertical-align: middle;\n",
       "    }\n",
       "\n",
       "    .dataframe tbody tr th {\n",
       "        vertical-align: top;\n",
       "    }\n",
       "\n",
       "    .dataframe thead th {\n",
       "        text-align: right;\n",
       "    }\n",
       "</style>\n",
       "<table border=\"1\" class=\"dataframe\">\n",
       "  <thead>\n",
       "    <tr style=\"text-align: right;\">\n",
       "      <th></th>\n",
       "      <th>EventName</th>\n",
       "      <th>DeviceIDHash</th>\n",
       "      <th>EventTimestamp</th>\n",
       "      <th>ExpId</th>\n",
       "    </tr>\n",
       "  </thead>\n",
       "  <tbody>\n",
       "    <tr>\n",
       "      <th>0</th>\n",
       "      <td>MainScreenAppear</td>\n",
       "      <td>4575588528974610257</td>\n",
       "      <td>1564029816</td>\n",
       "      <td>246</td>\n",
       "    </tr>\n",
       "    <tr>\n",
       "      <th>1</th>\n",
       "      <td>MainScreenAppear</td>\n",
       "      <td>7416695313311560658</td>\n",
       "      <td>1564053102</td>\n",
       "      <td>246</td>\n",
       "    </tr>\n",
       "    <tr>\n",
       "      <th>2</th>\n",
       "      <td>PaymentScreenSuccessful</td>\n",
       "      <td>3518123091307005509</td>\n",
       "      <td>1564054127</td>\n",
       "      <td>248</td>\n",
       "    </tr>\n",
       "    <tr>\n",
       "      <th>3</th>\n",
       "      <td>CartScreenAppear</td>\n",
       "      <td>3518123091307005509</td>\n",
       "      <td>1564054127</td>\n",
       "      <td>248</td>\n",
       "    </tr>\n",
       "    <tr>\n",
       "      <th>4</th>\n",
       "      <td>PaymentScreenSuccessful</td>\n",
       "      <td>6217807653094995999</td>\n",
       "      <td>1564055322</td>\n",
       "      <td>248</td>\n",
       "    </tr>\n",
       "  </tbody>\n",
       "</table>\n",
       "</div>"
      ],
      "text/plain": [
       "                 EventName         DeviceIDHash  EventTimestamp  ExpId\n",
       "0         MainScreenAppear  4575588528974610257      1564029816    246\n",
       "1         MainScreenAppear  7416695313311560658      1564053102    246\n",
       "2  PaymentScreenSuccessful  3518123091307005509      1564054127    248\n",
       "3         CartScreenAppear  3518123091307005509      1564054127    248\n",
       "4  PaymentScreenSuccessful  6217807653094995999      1564055322    248"
      ]
     },
     "execution_count": 4,
     "metadata": {},
     "output_type": "execute_result"
    }
   ],
   "source": [
    "df_logs.head(5)"
   ]
  },
  {
   "cell_type": "code",
   "execution_count": 5,
   "metadata": {},
   "outputs": [
    {
     "name": "stdout",
     "output_type": "stream",
     "text": [
      "Index(['eventname', 'deviceidhash', 'eventtimestamp', 'expid'], dtype='object')\n"
     ]
    }
   ],
   "source": [
    "#  Funcion para poner los encabezados en minusculas\n",
    "def lowercase_columns(df):\n",
    "    return [col.lower() for col in df.columns]\n",
    "\n",
    "df_logs.columns = lowercase_columns(df_logs)\n",
    "\n",
    "\n",
    "print(df_logs.columns)\n"
   ]
  },
  {
   "cell_type": "code",
   "execution_count": 6,
   "metadata": {},
   "outputs": [
    {
     "name": "stdout",
     "output_type": "stream",
     "text": [
      "eventname                 object\n",
      "deviceidhash              object\n",
      "eventtimestamp    datetime64[ns]\n",
      "expid                     object\n",
      "dtype: object\n"
     ]
    }
   ],
   "source": [
    "#convertir columna de tiempo\n",
    "df_logs['eventtimestamp'] = pd.to_datetime(df_logs['eventtimestamp'], unit='s')\n",
    "\n",
    "# Columnas a convertir a object (excluyendo EventTimestamp)\n",
    "columns_to_object = ['eventname', 'deviceidhash', 'expid']\n",
    "\n",
    "# Aplicar la conversión\n",
    "df_logs[columns_to_object] = df_logs[columns_to_object].astype(str)\n",
    "\n",
    "# Verificar los tipos de datos\n",
    "print(df_logs.dtypes)"
   ]
  },
  {
   "cell_type": "code",
   "execution_count": 7,
   "metadata": {},
   "outputs": [
    {
     "name": "stdout",
     "output_type": "stream",
     "text": [
      "eventname         0\n",
      "deviceidhash      0\n",
      "eventtimestamp    0\n",
      "expid             0\n",
      "dtype: int64\n"
     ]
    }
   ],
   "source": [
    "# identificar valores ausentes\n",
    "print(df_logs.isna().sum())"
   ]
  },
  {
   "cell_type": "code",
   "execution_count": 8,
   "metadata": {},
   "outputs": [
    {
     "name": "stdout",
     "output_type": "stream",
     "text": [
      "'eventname': 0 valores vacíos/espacios\n",
      "'deviceidhash': 0 valores vacíos/espacios\n",
      "'expid': 0 valores vacíos/espacios\n"
     ]
    }
   ],
   "source": [
    "# Verificar strings vacías en columnas de tipo 'object'\n",
    "object_cols = df_logs.select_dtypes(include='object').columns\n",
    "for col in object_cols:\n",
    "    empty_count = (df_logs[col].str.strip() == \"\").sum()  # Cuenta strings vacías o con espacios\n",
    "    print(f\"'{col}': {empty_count} valores vacíos/espacios\")"
   ]
  },
  {
   "cell_type": "code",
   "execution_count": 9,
   "metadata": {},
   "outputs": [
    {
     "name": "stdout",
     "output_type": "stream",
     "text": [
      "EventTimestamp mínimo: 2019-07-25 04:43:36\n",
      "ExpId únicos: ['246' '248' '247']\n"
     ]
    }
   ],
   "source": [
    "print(\"EventTimestamp mínimo:\", df_logs['eventtimestamp'].min())\n",
    "print(\"ExpId únicos:\", df_logs['expid'].unique())"
   ]
  },
  {
   "cell_type": "markdown",
   "metadata": {},
   "source": [
    "<div class=\"alert alert-block alert-success\">\n",
    "<b>Comentario del revisor</b> <a class=\"tocSkip\"></a><br>\n",
    "\n",
    "<b>Éxito</b> - ¡Muy bien planteada la introducción del proyecto! La descripción de las actividades está clara, contextualiza bien los objetivos de análisis del embudo de conversión y del experimento A/A/B. Además, se valora mucho que hayas presentado los datos desde el inicio, incluyendo información sobre la estructura del DataFrame y la conversión de tipos de datos. Esto es fundamental para garantizar un análisis limpio y confiable.\n",
    "\n",
    "</div"
   ]
  },
  {
   "cell_type": "markdown",
   "metadata": {},
   "source": [
    "# Paso 3. Estudiar y comprobar los datos"
   ]
  },
  {
   "cell_type": "code",
   "execution_count": 10,
   "metadata": {},
   "outputs": [
    {
     "name": "stdout",
     "output_type": "stream",
     "text": [
      "Total de eventos registrados: 244126\n"
     ]
    }
   ],
   "source": [
    "# ¿Cuántos eventos hay en los registros?\n",
    "total_eventos = len(df_logs)\n",
    "print(\"Total de eventos registrados:\", total_eventos)"
   ]
  },
  {
   "cell_type": "code",
   "execution_count": 11,
   "metadata": {},
   "outputs": [
    {
     "name": "stdout",
     "output_type": "stream",
     "text": [
      "Número total de usuarios únicos: 7551\n"
     ]
    }
   ],
   "source": [
    "# ¿Cuántos usuarios hay en los registros?\n",
    "num_usuarios = df_logs['deviceidhash'].nunique()\n",
    "\n",
    "print(f\"Número total de usuarios únicos: {num_usuarios}\")"
   ]
  },
  {
   "cell_type": "code",
   "execution_count": 12,
   "metadata": {},
   "outputs": [
    {
     "name": "stdout",
     "output_type": "stream",
     "text": [
      "Promedio de eventos por usuario: 32.33\n"
     ]
    }
   ],
   "source": [
    "# ¿Cuál es el promedio de eventos por usuario?\n",
    "# numero total de eventos\n",
    "total_eventos = len(df_logs)\n",
    "\n",
    "# Número de usuarios únicos\n",
    "usuarios_unicos = df_logs['deviceidhash'].nunique()\n",
    "\n",
    "# 3. Cálculo del promedio\n",
    "promedio_eventos_por_usuario = total_eventos / usuarios_unicos\n",
    "\n",
    "print(f\"Promedio de eventos por usuario: {promedio_eventos_por_usuario:.2f}\")"
   ]
  },
  {
   "cell_type": "markdown",
   "metadata": {},
   "source": [
    "**- ¿Qué periodo de tiempo cubren los datos? Encuentra la fecha máxima y mínima. Traza un histograma por fecha y hora. ¿Puedes tener seguridad de que tienes datos igualmente completos para todo el periodo? Los eventos más antiguos podrían terminar en los registros de algunos usuarios por razones técnicas y esto podría sesgar el panorama general. Encuentra el momento en el que los datos comienzan a estar completos e ignora la sección anterior. ¿Qué periodo representan realmente los datos?**"
   ]
  },
  {
   "cell_type": "code",
   "execution_count": 13,
   "metadata": {},
   "outputs": [
    {
     "name": "stdout",
     "output_type": "stream",
     "text": [
      "Periodo cubierto: De 2019-07-25 04:43:36 a 2019-08-07 21:15:17\n"
     ]
    }
   ],
   "source": [
    "# Obtener fechas mínima y máxima\n",
    "fecha_min = df_logs['eventtimestamp'].min()\n",
    "fecha_max = df_logs['eventtimestamp'].max()\n",
    "\n",
    "print(f\"Periodo cubierto: De {fecha_min} a {fecha_max}\")"
   ]
  },
  {
   "cell_type": "code",
   "execution_count": 14,
   "metadata": {
    "scrolled": false
   },
   "outputs": [
    {
     "data": {
      "image/png": "[encoded data removed]",
      "text/plain": [
       "<Figure size 1200x600 with 1 Axes>"
      ]
     },
     "metadata": {},
     "output_type": "display_data"
    },
    {
     "data": {
      "image/png": "[encoded data removed]",
      "text/plain": [
       "<Figure size 1000x400 with 1 Axes>"
      ]
     },
     "metadata": {},
     "output_type": "display_data"
    }
   ],
   "source": [
    "# Extraer fecha y hora\n",
    "df_logs['Fecha'] = df_logs['eventtimestamp'].dt.date\n",
    "df_logs['Hora'] = df_logs['eventtimestamp'].dt.hour\n",
    "\n",
    "# Histograma por fecha\n",
    "plt.figure(figsize=(12, 6))\n",
    "df_logs['Fecha'].value_counts().sort_index().plot(kind='bar', color='skyblue')\n",
    "plt.title('Distribución de Eventos por Fecha')\n",
    "plt.xlabel('Fecha')\n",
    "plt.ylabel('Número de Eventos')\n",
    "plt.xticks(rotation=45)\n",
    "plt.show()\n",
    "\n",
    "# Histograma por hora (promedio diario)\n",
    "plt.figure(figsize=(10, 4))\n",
    "df_logs['Hora'].value_counts().sort_index().plot(kind='bar', color='salmon')\n",
    "plt.title('Distribución de Eventos por Hora del Día')\n",
    "plt.xlabel('Hora')\n",
    "plt.ylabel('Número de Eventos')\n",
    "plt.show()"
   ]
  },
  {
   "cell_type": "markdown",
   "metadata": {},
   "source": [
    "- En el grafico de fechas podemos observar que existen fechas con una cantidad de datos muy baja, asi que tendremos que revisar a partir de que fecha se tiene una cantidad considerable de datos y eliminar el resto, para evitar o reducir un posible sesgo."
   ]
  },
  {
   "cell_type": "code",
   "execution_count": 15,
   "metadata": {},
   "outputs": [
    {
     "name": "stdout",
     "output_type": "stream",
     "text": [
      "Los datos están completos a partir de: 2019-08-01 00:00:00\n",
      "promedio de eventos filtrados por dia: 32423.129999999997\n"
     ]
    }
   ],
   "source": [
    "# Calcular eventos por día\n",
    "eventos_por_dia = df_logs.set_index('eventtimestamp').resample('D').size()\n",
    "\n",
    "# Encontrar el día donde los eventos superan el 90% del promedio estable\n",
    "umbral = eventos_por_dia.quantile(0.9) * 0.9  # 90% del percentil 90\n",
    "fecha_completa = eventos_por_dia[eventos_por_dia >= umbral].index.min()\n",
    "\n",
    "print(f\"Los datos están completos a partir de: {fecha_completa}\")\n",
    "print('promedio de eventos filtrados por dia:', umbral.mean())"
   ]
  },
  {
   "cell_type": "code",
   "execution_count": 16,
   "metadata": {},
   "outputs": [
    {
     "name": "stdout",
     "output_type": "stream",
     "text": [
      "Periodo real con datos completos: De 2019-08-01 00:00:00 a 2019-08-07 21:15:17\n"
     ]
    }
   ],
   "source": [
    "print(f\"Periodo real con datos completos: De {fecha_completa} a {fecha_max}\")"
   ]
  },
  {
   "cell_type": "code",
   "execution_count": 17,
   "metadata": {},
   "outputs": [
    {
     "name": "stdout",
     "output_type": "stream",
     "text": [
      "Total de datos filtrados: 241298\n",
      "Porcentaje de datos filtrados: 98.84 %\n"
     ]
    }
   ],
   "source": [
    "# Filtrar datos completos\n",
    "df_filtrado = df_logs[df_logs['eventtimestamp'] >= fecha_completa]\n",
    "\n",
    "total_datos_filtrados = len(df_filtrado)\n",
    "print(\"Total de datos filtrados:\", total_datos_filtrados)\n",
    "porcentaje_datos = (total_datos_filtrados / total_eventos) * 100\n",
    "print(f\"Porcentaje de datos filtrados: {porcentaje_datos:.2f} %\")\n"
   ]
  },
  {
   "cell_type": "markdown",
   "metadata": {},
   "source": [
    "**- Despues de eliminar los datos de los dias con pocos eventos registrados, aun tenemos un 98.84% de los datos para continuar con nuestro analisis, esto es bastante bueno.**"
   ]
  },
  {
   "cell_type": "code",
   "execution_count": 18,
   "metadata": {},
   "outputs": [
    {
     "name": "stdout",
     "output_type": "stream",
     "text": [
      "<class 'pandas.core.frame.DataFrame'>\n",
      "Int64Index: 241298 entries, 2828 to 244125\n",
      "Data columns (total 6 columns):\n",
      " #   Column          Non-Null Count   Dtype         \n",
      "---  ------          --------------   -----         \n",
      " 0   eventname       241298 non-null  object        \n",
      " 1   deviceidhash    241298 non-null  object        \n",
      " 2   eventtimestamp  241298 non-null  datetime64[ns]\n",
      " 3   expid           241298 non-null  object        \n",
      " 4   Fecha           241298 non-null  object        \n",
      " 5   Hora            241298 non-null  int64         \n",
      "dtypes: datetime64[ns](1), int64(1), object(4)\n",
      "memory usage: 12.9+ MB\n"
     ]
    }
   ],
   "source": [
    "df_filtrado.info()"
   ]
  },
  {
   "cell_type": "code",
   "execution_count": 19,
   "metadata": {},
   "outputs": [
    {
     "name": "stdout",
     "output_type": "stream",
     "text": [
      "Cantidad de datos de cada grupo:\n",
      "248    84726\n",
      "246    79425\n",
      "247    77147\n",
      "Name: expid, dtype: int64\n"
     ]
    }
   ],
   "source": [
    "#verificar cuantos datos tenemos de cada grupo\n",
    "conteo_por_expid = df_filtrado['expid'].value_counts()\n",
    "print('Cantidad de datos de cada grupo:')\n",
    "print(conteo_por_expid)"
   ]
  },
  {
   "cell_type": "markdown",
   "metadata": {},
   "source": [
    "# Paso 4. Estudiar el embudo de eventos\n",
    "\n",
    "**Observa qué eventos hay en los registros y su frecuencia de suceso. Ordénalos por frecuencia.**\n"
   ]
  },
  {
   "cell_type": "code",
   "execution_count": 106,
   "metadata": {},
   "outputs": [
    {
     "name": "stdout",
     "output_type": "stream",
     "text": [
      "MainScreenAppear           117431\n",
      "OffersScreenAppear          46350\n",
      "CartScreenAppear            42365\n",
      "PaymentScreenSuccessful     34113\n",
      "Tutorial                     1039\n",
      "Name: eventname, dtype: int64\n"
     ]
    }
   ],
   "source": [
    "#conteo de registros por evento\n",
    "conteo_eventos = df_filtrado['eventname'].value_counts()\n",
    "print(conteo_eventos)"
   ]
  },
  {
   "cell_type": "code",
   "execution_count": 105,
   "metadata": {},
   "outputs": [
    {
     "data": {
      "image/png": "[encoded data removed]",
      "text/plain": [
       "<Figure size 1200x600 with 1 Axes>"
      ]
     },
     "metadata": {},
     "output_type": "display_data"
    }
   ],
   "source": [
    "# convertir en DataFrame para personalizar más fácil\n",
    "df_eventos = conteo_eventos.reset_index()\n",
    "df_eventos.columns = ['eventname', 'frecuencia']\n",
    "\n",
    "# Gráfico de barras\n",
    "plt.figure(figsize=(12, 6))\n",
    "sns.barplot(data=df_eventos, x='eventname', y='frecuencia', palette='viridis')\n",
    "\n",
    "plt.title('Frecuencia de eventos (eventname)')\n",
    "plt.xlabel('Tipo de evento')\n",
    "plt.ylabel('Cantidad')\n",
    "plt.xticks(rotation=45, ha='right')  \n",
    "plt.tight_layout()\n",
    "plt.show()"
   ]
  },
  {
   "cell_type": "markdown",
   "metadata": {},
   "source": [
    "- este grafico nos muestra la frecuencia en la que sucede cada evento y los tipos de eventos que tenemos registrados en nuestro archivo de analisis. Dependiendo de lo que queramos analizar, podemos identificar que la parte de compras realizadas esta cercana a los 20000 registros."
   ]
  },
  {
   "cell_type": "markdown",
   "metadata": {},
   "source": [
    "**Encuentra la cantidad de usuarios que realizaron cada una de estas acciones. Ordena los eventos por el número de usuarios.**"
   ]
  },
  {
   "cell_type": "code",
   "execution_count": 107,
   "metadata": {},
   "outputs": [
    {
     "name": "stdout",
     "output_type": "stream",
     "text": [
      "eventname\n",
      "MainScreenAppear           7419\n",
      "OffersScreenAppear         4593\n",
      "CartScreenAppear           3734\n",
      "PaymentScreenSuccessful    3539\n",
      "Tutorial                    840\n",
      "Name: deviceidhash, dtype: int64\n"
     ]
    }
   ],
   "source": [
    "#calculo de usuarios unicos por evento\n",
    "usuarios_por_evento = df_filtrado.groupby('eventname')['deviceidhash'].nunique().sort_values(ascending=False)\n",
    "print(usuarios_por_evento)"
   ]
  },
  {
   "cell_type": "code",
   "execution_count": 108,
   "metadata": {
    "scrolled": true
   },
   "outputs": [
    {
     "data": {
      "image/png": "[encoded data removed]",
      "text/plain": [
       "<Figure size 1200x600 with 1 Axes>"
      ]
     },
     "metadata": {},
     "output_type": "display_data"
    }
   ],
   "source": [
    "#grafica para visualizar usuarios por evento\n",
    "df_usuarios_por_evento = usuarios_por_evento.reset_index()\n",
    "df_usuarios_por_evento.columns = ['eventname', 'usuarios_unicos']\n",
    "\n",
    "plt.figure(figsize=(12, 6))\n",
    "sns.barplot(data=df_usuarios_por_evento, x='eventname', y='usuarios_unicos', palette='coolwarm')\n",
    "\n",
    "plt.title('Cantidad de usuarios únicos por tipo de evento')\n",
    "plt.xlabel('Tipo de evento')\n",
    "plt.ylabel('Usuarios únicos')\n",
    "plt.xticks(rotation=45, ha='right')\n",
    "plt.tight_layout()\n",
    "plt.show()"
   ]
  },
  {
   "cell_type": "markdown",
   "metadata": {},
   "source": [
    "**Calcula la proporción de usuarios que realizaron la acción al menos una vez.**"
   ]
  },
  {
   "cell_type": "code",
   "execution_count": 109,
   "metadata": {},
   "outputs": [
    {
     "name": "stdout",
     "output_type": "stream",
     "text": [
      "eventname\n",
      "MainScreenAppear           0.984736\n",
      "OffersScreenAppear         0.609636\n",
      "CartScreenAppear           0.495620\n",
      "PaymentScreenSuccessful    0.469737\n",
      "Tutorial                   0.111495\n",
      "Name: deviceidhash, dtype: float64\n"
     ]
    }
   ],
   "source": [
    "#calculo de proporcion de usuario que realizaron la accion una vez\n",
    "total_usuarios = df_filtrado['deviceidhash'].nunique()\n",
    "usuarios_por_evento = df_filtrado.groupby('eventname')['deviceidhash'].nunique()\n",
    "proporcion_por_evento = (usuarios_por_evento / total_usuarios).sort_values(ascending=False)\n",
    "print(proporcion_por_evento)"
   ]
  },
  {
   "cell_type": "code",
   "execution_count": 110,
   "metadata": {},
   "outputs": [
    {
     "data": {
      "image/png": "[encoded data removed]",
      "text/plain": [
       "<Figure size 1200x600 with 1 Axes>"
      ]
     },
     "metadata": {},
     "output_type": "display_data"
    }
   ],
   "source": [
    "#grafica de proporcion de usuarios que realizaron cada evento\n",
    "df_proporcion = proporcion_por_evento.reset_index()\n",
    "df_proporcion.columns = ['eventname', 'proporcion']\n",
    "\n",
    "plt.figure(figsize=(12, 6))\n",
    "sns.barplot(data=df_proporcion, x='eventname', y='proporcion', palette='magma')\n",
    "\n",
    "plt.title('Proporción de usuarios que realizaron cada evento al menos una vez')\n",
    "plt.xlabel('Tipo de evento')\n",
    "plt.ylabel('Proporción de usuarios')\n",
    "plt.xticks(rotation=45, ha='right')\n",
    "plt.tight_layout()\n",
    "plt.show()"
   ]
  },
  {
   "cell_type": "markdown",
   "metadata": {},
   "source": [
    "**•\t¿En qué orden crees que ocurrieron las acciones?**\n",
    "\n",
    "RESPUESTA:\n",
    "\n",
    "Despues de revisar los eventos registrados y su descripcion podriamos ordenar la ocurrencia de los eventos de la siguiente forma posible:\n",
    "\n",
    "    1 - Main Screen Appear\n",
    "    2 - Offers Screen Appear\n",
    "    3 - Tutorial\n",
    "    4 - Cart Screen Appear\n",
    "    5 - Payment Screen Successful\n",
    "    \n",
    "**•   ¿Todas son parte de una sola secuencia?**\n",
    "\n",
    "RESPUESTA:\n",
    "\n",
    "No necesariamnente pueden ser de una sola secuencia, posiblemente el main screen appear y el offers screen appear sean eventos separados; y el tutorial aparenta ser opcional y por ende no todos los usuarios lo toman.\n"
   ]
  },
  {
   "cell_type": "markdown",
   "metadata": {},
   "source": [
    "**•\tUtiliza el embudo de eventos para encontrar la proporción de usuarios que pasan de una etapa a la siguiente. Por ejemplo, para la secuencia de eventos A → B → C, calcula la proporción de usuarios en la etapa B a la cantidad de usuarios en la etapa A y la proporción de usuarios en la etapa C a la cantidad en la etapa B.**"
   ]
  },
  {
   "cell_type": "markdown",
   "metadata": {},
   "source": [
    "•\t¿En qué etapa se pierden más usuarios?"
   ]
  },
  {
   "cell_type": "markdown",
   "metadata": {},
   "source": [
    "para este analisis asumiremos la siguiente secuencia:\n",
    "\n",
    "    1 - Main Screen Appear\n",
    "    2 - Offers Screen Appear\n",
    "    3 - Cart Screen Appear\n",
    "    4 - Payment Screen Successful\n"
   ]
  },
  {
   "cell_type": "code",
   "execution_count": 26,
   "metadata": {},
   "outputs": [
    {
     "name": "stdout",
     "output_type": "stream",
     "text": [
      "eventname\n",
      "MainScreenAppear           7419\n",
      "OffersScreenAppear         4593\n",
      "CartScreenAppear           3734\n",
      "PaymentScreenSuccessful    3539\n",
      "Tutorial                    840\n",
      "Name: deviceidhash, dtype: int64\n"
     ]
    }
   ],
   "source": [
    "#determinar la cantidad de usuarios por cada evento\n",
    "usuarios_por_evento = df_filtrado.groupby('eventname')['deviceidhash'].nunique().sort_values(ascending=False)\n",
    "print(usuarios_por_evento)"
   ]
  },
  {
   "cell_type": "markdown",
   "metadata": {},
   "source": [
    "si consideramos el orden secuencial antes mencionado y la cantidad de usuarios por evento, podemos calcular la proporcion de usuarios que van pasando de un evento a otro\n"
   ]
  },
  {
   "cell_type": "code",
   "execution_count": 27,
   "metadata": {},
   "outputs": [
    {
     "name": "stdout",
     "output_type": "stream",
     "text": [
      "MainScreenAppear ---> OffersScreenAppear: 61.91% de conversión\n",
      "OffersScreenAppear ---> CartScreenAppear: 81.30% de conversión\n",
      "CartScreenAppear ---> PaymentScreenSuccessful: 94.78% de conversión\n"
     ]
    }
   ],
   "source": [
    "# calcular proporciones de usuarios unicos por evento\n",
    "funnel_ordenado = usuarios_por_evento.loc[\n",
    "    ['MainScreenAppear', 'OffersScreenAppear', 'CartScreenAppear', 'PaymentScreenSuccessful']\n",
    "]\n",
    "\n",
    "proporciones = funnel_ordenado.values[1:] / funnel_ordenado.values[:-1]\n",
    "\n",
    "for i in range(len(proporciones)):\n",
    "    print(f\"{funnel_ordenado.index[i]} ---> {funnel_ordenado.index[i+1]}: {proporciones[i]:.2%} de conversión\")"
   ]
  },
  {
   "cell_type": "code",
   "execution_count": 28,
   "metadata": {},
   "outputs": [
    {
     "name": "stdout",
     "output_type": "stream",
     "text": [
      "MainScreenAppear           117431\n",
      "OffersScreenAppear          46350\n",
      "CartScreenAppear            42365\n",
      "PaymentScreenSuccessful     34113\n",
      "Tutorial                     1039\n",
      "Name: eventname, dtype: int64\n"
     ]
    }
   ],
   "source": [
    "#calculo de total de registros por evento\n",
    "conteo_eventos = df_filtrado['eventname'].value_counts()\n",
    "print(conteo_eventos)\n"
   ]
  },
  {
   "cell_type": "code",
   "execution_count": 29,
   "metadata": {},
   "outputs": [
    {
     "name": "stdout",
     "output_type": "stream",
     "text": [
      "MainScreenAppear ---> OffersScreenAppear: 39.47% de conversión\n",
      "OffersScreenAppear ---> CartScreenAppear: 91.40% de conversión\n",
      "CartScreenAppear ---> PaymentScreenSuccessful: 80.52% de conversión\n"
     ]
    }
   ],
   "source": [
    "# calcular proporciones de total de registros de usuarios por evento\n",
    "funnel_ordenado2 = conteo_eventos.loc[\n",
    "    ['MainScreenAppear', 'OffersScreenAppear', 'CartScreenAppear', 'PaymentScreenSuccessful']\n",
    "]\n",
    "\n",
    "proporciones2 = funnel_ordenado2.values[1:] / funnel_ordenado2.values[:-1]\n",
    "\n",
    "for i in range(len(proporciones2)):\n",
    "    print(f\"{funnel_ordenado2.index[i]} ---> {funnel_ordenado2.index[i+1]}: {proporciones2[i]:.2%} de conversión\")"
   ]
  },
  {
   "cell_type": "markdown",
   "metadata": {},
   "source": [
    "**•\t¿En qué etapa pierdes más usuarios?**\n",
    "\n",
    "RESPUESTA:\n",
    "\n",
    "Considerando el orden secuencial planteado, en la etapa donde se pierden mas usuarios es de la etapa de Main Screen Apper a la etapa de Offers Screen Appear. "
   ]
  },
  {
   "cell_type": "markdown",
   "metadata": {},
   "source": [
    "**•\t¿Qué porcentaje de usuarios hace todo el viaje desde su primer evento hasta el pago?**"
   ]
  },
  {
   "cell_type": "code",
   "execution_count": 30,
   "metadata": {
    "scrolled": true
   },
   "outputs": [
    {
     "name": "stdout",
     "output_type": "stream",
     "text": [
      "3429 de 7534 usuarios realizaron todos los eventos del viaje.\n",
      "Eso representa un 45.51% del total.\n"
     ]
    }
   ],
   "source": [
    "pasos_embudo = [\n",
    "    \"MainScreenAppear\",\n",
    "    \"OffersScreenAppear\",\n",
    "    \"CartScreenAppear\",\n",
    "    \"PaymentScreenSuccessful\"\n",
    "]\n",
    "\n",
    "# Agrupar por usuario y obtener eventos únicos que hizo cada uno\n",
    "eventos_por_usuario = df_filtrado.groupby('deviceidhash')['eventname'].unique()\n",
    "\n",
    "# Verificar para cada usuario si hizo todos los eventos del embudo (sin importar orden)\n",
    "usuarios_con_todos = eventos_por_usuario[eventos_por_usuario.apply(lambda eventos: set(pasos_embudo).issubset(set(eventos)))]\n",
    "\n",
    "# Calcular valores\n",
    "usuarios_totales = df_filtrado['deviceidhash'].nunique()\n",
    "usuarios_completaron = len(usuarios_con_todos)\n",
    "porcentaje = usuarios_completaron / usuarios_totales * 100\n",
    "\n",
    "print(f\"{usuarios_completaron} de {usuarios_totales} usuarios realizaron todos los eventos del viaje.\")\n",
    "print(f\"Eso representa un {porcentaje:.2f}% del total.\")"
   ]
  },
  {
   "cell_type": "markdown",
   "metadata": {},
   "source": [
    "<div class=\"alert alert-block alert-success\">\n",
    "<b>Comentario del revisor</b> <a class=\"tocSkip\"></a><br>\n",
    "\n",
    "<b>Éxito</b> - ¡Excelente trabajo en esta sección! Has realizado un análisis exploratorio muy sólido: el conteo de eventos, usuarios únicos y promedio de eventos por usuario están correctamente calculados y bien presentados. Además, el análisis temporal es destacable: los histogramas por fecha y hora ayudan a visualizar la distribución de los datos y tomar decisiones informadas. También es un gran acierto que hayas identificado el punto de corte para garantizar calidad en los datos y que hayas filtrado sin perder información valiosa (más del 98% conservado). Este enfoque mejora significativamente la confiabilidad del análisis posterior. 👏📊\n",
    "\n",
    "</div>\n"
   ]
  },
  {
   "cell_type": "markdown",
   "metadata": {},
   "source": [
    "# Paso 5. Estudiar los resultados del experimento\n",
    "\n",
    "•\t¿Cuántos usuarios hay en cada grupo?\n"
   ]
  },
  {
   "cell_type": "code",
   "execution_count": 31,
   "metadata": {},
   "outputs": [
    {
     "name": "stdout",
     "output_type": "stream",
     "text": [
      "Cantidad de datos de cada grupo:\n",
      "248    84726\n",
      "246    79425\n",
      "247    77147\n",
      "Name: expid, dtype: int64\n"
     ]
    }
   ],
   "source": [
    "#verificar cuantos datos tenemos de cada grupo\n",
    "conteo_por_expid = df_filtrado['expid'].value_counts()\n",
    "print('Cantidad de datos de cada grupo:')\n",
    "print(conteo_por_expid)\n"
   ]
  },
  {
   "cell_type": "code",
   "execution_count": 32,
   "metadata": {},
   "outputs": [
    {
     "name": "stdout",
     "output_type": "stream",
     "text": [
      "Usuarios únicos por grupo:\n",
      "expid\n",
      "246    2484\n",
      "247    2513\n",
      "248    2537\n",
      "Name: deviceidhash, dtype: int64\n"
     ]
    }
   ],
   "source": [
    "#verificar cuantos usuarios unicos hay en cada grupo\n",
    "usuarios_por_grupo = df_filtrado.groupby('expid')['deviceidhash'].nunique()\n",
    "print('Usuarios únicos por grupo:')\n",
    "print(usuarios_por_grupo)"
   ]
  },
  {
   "cell_type": "markdown",
   "metadata": {},
   "source": [
    "**•\tTenemos dos grupos de control en el test A/A, donde comprobamos nuestros mecanismos y cálculos. Observa si hay una diferencia estadísticamente significativa entre las muestras 246 y 247.**"
   ]
  },
  {
   "cell_type": "code",
   "execution_count": 59,
   "metadata": {},
   "outputs": [
    {
     "name": "stdout",
     "output_type": "stream",
     "text": [
      "=== Comparación Grupos 246 vs 247 ===\n",
      "Usuarios totales en:\n",
      "  • Grupo 246: 2484\n",
      "  • Grupo 247: 2513\n",
      "\n",
      "Usuarios que llegaron a PaymentScreenSuccessful:\n",
      "  • Grupo 246: 1200 (48.31%)\n",
      "  • Grupo 247: 1158 (46.08%)\n",
      "\n",
      "Diferencia absoluta: 0.0223 (2.23%)\n",
      "Estadístico Z: 1.5780\n",
      "P-valor: 0.114567\n",
      "\n",
      "Conclusión: NO hay diferencia significativa (no se rechaza H0)\n"
     ]
    }
   ],
   "source": [
    "# Filtrar solo los grupos A/A (246 y 247)\n",
    "df_aa = df_filtrado[df_filtrado['expid'].isin(['246', '247'])]\n",
    "\n",
    "# Usuarios únicos por grupo\n",
    "total_246 = df_aa[(df_aa['expid'] == '246')]['deviceidhash'].nunique()\n",
    "total_247 = df_aa[(df_aa['expid'] == '247')]['deviceidhash'].nunique()\n",
    "\n",
    "\n",
    "# Obtener éxitos (únicos que llegaron a PaymentScreenSuccessful)\n",
    "pago_246 = df_aa[(df_aa['expid'] == '246') & (df_aa['eventname'] == 'PaymentScreenSuccessful')]['deviceidhash'].nunique()\n",
    "pago_247 = df_aa[(df_aa['expid'] == '247') & (df_aa['eventname'] == 'PaymentScreenSuccessful')]['deviceidhash'].nunique()\n",
    "\n",
    "alpha = 0.05  # Nivel de significación\n",
    "\n",
    "successes = np.array([pago_246, pago_247])\n",
    "trials = np.array([total_246, total_247])\n",
    "\n",
    "# Proporciones\n",
    "p1 = successes[0] / trials[0]\n",
    "p2 = successes[1] / trials[1]\n",
    "\n",
    "# Proporción combinada\n",
    "p_combined = (successes[0] + successes[1]) / (trials[0] + trials[1])\n",
    "\n",
    "# Diferencia\n",
    "difference = p1 - p2\n",
    "\n",
    "# Estadístico Z\n",
    "z_value = difference / mth.sqrt(p_combined * (1 - p_combined) * (1/trials[0] + 1/trials[1]))\n",
    "\n",
    "# Distribución normal estándar\n",
    "distr = st.norm(0, 1)\n",
    "p_value = (1 - distr.cdf(abs(z_value))) * 2  # Two-tailed test\n",
    "\n",
    "# --- Resultados ---\n",
    "print(\"=== Comparación Grupos 246 vs 247 ===\")\n",
    "print(f\"Usuarios totales en:\")\n",
    "print(f\"  • Grupo 246: {total_246}\")\n",
    "print(f\"  • Grupo 247: {total_247}\\n\")\n",
    "\n",
    "print(f\"Usuarios que llegaron a PaymentScreenSuccessful:\")\n",
    "print(f\"  • Grupo 246: {pago_246} ({p1:.2%})\")\n",
    "print(f\"  • Grupo 247: {pago_247} ({p2:.2%})\\n\")\n",
    "\n",
    "print(f\"Diferencia absoluta: {difference:.4f} ({difference:.2%})\")\n",
    "print(f\"Estadístico Z: {z_value:.4f}\")\n",
    "print(f\"P-valor: {p_value:.6f}\")\n",
    "\n",
    "# Conclusión\n",
    "if p_value < alpha:\n",
    "    print(\"\\nConclusión: Existe diferencia significativa (rechazamos H0)\")\n",
    "else:\n",
    "    print(\"\\nConclusión: NO hay diferencia significativa (no se rechaza H0)\")"
   ]
  },
  {
   "cell_type": "markdown",
   "metadata": {},
   "source": [
    "**•\tSelecciona el evento más popular.**"
   ]
  },
  {
   "cell_type": "code",
   "execution_count": 35,
   "metadata": {
    "scrolled": true
   },
   "outputs": [
    {
     "name": "stdout",
     "output_type": "stream",
     "text": [
      "Evento más popular en grupo 246:\n",
      "MainScreenAppear    37708\n",
      "Name: eventname, dtype: int64\n",
      "\n",
      "Evento más popular en grupo 247:\n",
      "MainScreenAppear    39123\n",
      "Name: eventname, dtype: int64\n"
     ]
    }
   ],
   "source": [
    "# Contar eventos por tipo en cada grupo\n",
    "eventos_246 = grupo_246['eventname'].value_counts()\n",
    "eventos_247 = grupo_247['eventname'].value_counts()\n",
    "eventos_248 = grupo_248['eventname'].value_counts()\n",
    "\n",
    "# Mostrar el evento más popular en cada grupo\n",
    "print(\"Evento más popular en grupo 246:\")\n",
    "print(eventos_246.head(1))\n",
    "\n",
    "print(\"\\nEvento más popular en grupo 247:\")\n",
    "print(eventos_247.head(1))"
   ]
  },
  {
   "cell_type": "markdown",
   "metadata": {},
   "source": [
    " **En cada uno de los grupos de control, encuentra la cantidad de usuarios que realizaron esta acción. Encuentra su proporción.**"
   ]
  },
  {
   "cell_type": "code",
   "execution_count": 60,
   "metadata": {},
   "outputs": [
    {
     "name": "stdout",
     "output_type": "stream",
     "text": [
      "=== Análisis del Primer Evento (MainScreenAppear) ===\n",
      "  Grupo  Usuarios_Únicos  Proporción\n",
      "0   246             2450    0.497361\n",
      "1   247             2476    0.502639\n",
      "\n",
      "Diferencia absoluta (247 - 246): 26 usuarios\n",
      "Diferencia relativa: 1.06%\n"
     ]
    }
   ],
   "source": [
    "# Filtrar solo el primer evento (MainScreenAppear) en grupos de control\n",
    "df_primer_evento = df_filtrado[\n",
    "    (df_filtrado['eventname'] == 'MainScreenAppear') & \n",
    "    (df_filtrado['expid'].isin(['246', '247']))\n",
    "]\n",
    "\n",
    "# Calcular usuarios únicos por grupo\n",
    "conteo_usuarios = df_primer_evento.groupby('expid')['deviceidhash'].nunique()\n",
    "\n",
    "# Calcular proporciones relativas\n",
    "total_usuarios = conteo_usuarios.sum()\n",
    "proporciones = conteo_usuarios / total_usuarios\n",
    "\n",
    "# Crear tabla de resultados\n",
    "resultados = pd.DataFrame({\n",
    "    'Grupo': conteo_usuarios.index,\n",
    "    'Usuarios_Únicos': conteo_usuarios.values,\n",
    "    'Proporción': proporciones.values\n",
    "})\n",
    "\n",
    "# Mostrar resultados\n",
    "print(\"=== Análisis del Primer Evento (MainScreenAppear) ===\")\n",
    "print(resultados)\n",
    "\n",
    "# Diferencia absoluta y relativa\n",
    "diferencia_abs = conteo_usuarios['247'] - conteo_usuarios['246']\n",
    "diferencia_rel = diferencia_abs / conteo_usuarios['246']\n",
    "\n",
    "print(f\"\\nDiferencia absoluta (247 - 246): {diferencia_abs} usuarios\")\n",
    "print(f\"Diferencia relativa: {diferencia_rel:.2%}\")"
   ]
  },
  {
   "cell_type": "markdown",
   "metadata": {},
   "source": [
    "**Comprueba si la diferencia entre los grupos es estadísticamente significativa.** "
   ]
  },
  {
   "cell_type": "code",
   "execution_count": 102,
   "metadata": {},
   "outputs": [
    {
     "name": "stdout",
     "output_type": "stream",
     "text": [
      "=== Comparación de Grupos (MainScreenAppear) ===\n",
      "Grupo 246: 2450/4926 = 0.4974 (49.74%)\n",
      "Grupo 247: 2476/4926 = 0.5026 (50.26%)\n",
      "\n",
      "Diferencia: -0.0053 (-0.53%)\n",
      "Estadístico Z: -0.5239\n",
      "P-valor: 0.600354\n",
      "\n",
      "Conclusión: No hay diferencia significativa (no se rechaza H0)\n"
     ]
    }
   ],
   "source": [
    "# Obtener conteos de usuarios únicos por grupo\n",
    "grupo_246 = df_primer_evento[df_primer_evento['expid'] == '246']['deviceidhash'].nunique()\n",
    "grupo_247 = df_primer_evento[df_primer_evento['expid'] == '247']['deviceidhash'].nunique()\n",
    "\n",
    "alpha = 0.05  # Nivel de significación\n",
    "successes = np.array([grupo_246, grupo_247])  # Usuarios en cada grupo\n",
    "trials = np.array([grupo_246 + grupo_247, grupo_246 + grupo_247])  # Total de usuarios en ambos grupos\n",
    "\n",
    "# Proporciones observadas\n",
    "p1 = successes[0] / trials[0]\n",
    "p2 = successes[1] / trials[1]\n",
    "\n",
    "# Proporción combinada (pooled proportion)\n",
    "p_combined = (successes[0] + successes[1]) / (trials[0] + trials[1])\n",
    "\n",
    "# Diferencia entre proporciones\n",
    "difference = p1 - p2\n",
    "\n",
    "# Estadístico Z\n",
    "z_value = difference / mth.sqrt(p_combined * (1 - p_combined) * (1/trials[0] + 1/trials[1]))\n",
    "\n",
    "# Valor p\n",
    "distr = st.norm(0, 1)  # Distribución normal estándar\n",
    "p_value = (1 - distr.cdf(abs(z_value))) * 2\n",
    "\n",
    "# Resultados\n",
    "print(f\"=== Comparación de Grupos (MainScreenAppear) ===\")\n",
    "print(f\"Grupo 246: {grupo_246}/{trials[0]} = {p1:.4f} ({p1:.2%})\")\n",
    "print(f\"Grupo 247: {grupo_247}/{trials[1]} = {p2:.4f} ({p2:.2%})\")\n",
    "print(f\"\\nDiferencia: {difference:.4f} ({difference:.2%})\")\n",
    "print(f\"Estadístico Z: {z_value:.4f}\")\n",
    "print(f\"P-valor: {p_value:.6f}\")\n",
    "\n",
    "# Conclusión\n",
    "if p_value < alpha:\n",
    "    print(\"\\nConclusión: Existe diferencia estadísticamente significativa (rechazamos H0)\")\n",
    "else:\n",
    "    print(\"\\nConclusión: No hay diferencia significativa (no se rechaza H0)\")"
   ]
  },
  {
   "cell_type": "markdown",
   "metadata": {},
   "source": [
    "**- Repite el procedimiento para todos los demás eventos (ahorrarás tiempo si creas una función especial para esta prueba). ¿Puedes confirmar que los grupos se dividieron correctamente?**"
   ]
  },
  {
   "cell_type": "code",
   "execution_count": 72,
   "metadata": {},
   "outputs": [],
   "source": [
    "def analizar_evento(df, evento, grupo_a='246', grupo_a2='247'):\n",
    "    # Filtrar por grupo\n",
    "    grupo_246 = df_aa[df_aa['expid'] == grupo_a]\n",
    "    grupo_247 = df_aa[df_aa['expid'] == grupo_a2]\n",
    "\n",
    "    # Totales de usuarios por grupo\n",
    "    usuarios_totales_246 = grupo_246['deviceidhash'].nunique()\n",
    "    usuarios_totales_247 = grupo_247['deviceidhash'].nunique()\n",
    "    #usuarios_totales =  usuarios_totales_246 + uruarios_totales\n",
    "\n",
    "    # Usuarios que realizaron el evento\n",
    "    usuarios_evento_246 = grupo_246[grupo_246['eventname'] == evento]['deviceidhash'].nunique()\n",
    "    usuarios_evento_247 = grupo_247[grupo_247['eventname'] == evento]['deviceidhash'].nunique()\n",
    "\n",
    "    # Proporciones\n",
    "    p1 = usuarios_evento_246 / usuarios_totales_246\n",
    "    p2 = usuarios_evento_247 / usuarios_totales_247\n",
    "    p_combined = (usuarios_evento_246 + usuarios_evento_247) / (usuarios_totales_246 + usuarios_totales_247)\n",
    "    difference = p1 - p2\n",
    "\n",
    "    # Z-test\n",
    "    z_value = difference / mth.sqrt(p_combined * (1 - p_combined) * (1/usuarios_totales_246 + 1/usuarios_totales_247))\n",
    "    p_value = (1 - st.norm.cdf(abs(z_value))) * 2\n",
    "\n",
    "    # Resultados\n",
    "    print(f\"\\n Análisis del evento: '{evento}'\")\n",
    "    print(f\"Grupo {grupo_a}: {usuarios_evento_246} usuarios ({p1:.2%})\")\n",
    "    print(f\"Grupo {grupo_a2}: {usuarios_evento_247} usuarios ({p2:.2%})\")\n",
    "    print(f\"Diferencia de proporciones: {difference:.2%}\")\n",
    "    print(f\"Z-score: {z_value:.4f}\")\n",
    "    print(f\"P-value: {p_value:.4f}\")\n",
    "\n",
    "    if p_value < 0.05:\n",
    "        print(\"Existe Diferencia estadísticamente significativa (p < 0.05)\")\n",
    "    else:\n",
    "        print(\"No hay diferencia significativa (p ≥ 0.05)\")"
   ]
  },
  {
   "cell_type": "code",
   "execution_count": 73,
   "metadata": {
    "scrolled": true
   },
   "outputs": [
    {
     "name": "stdout",
     "output_type": "stream",
     "text": [
      "\n",
      " Análisis del evento: 'MainScreenAppear'\n",
      "Grupo 246: 2450 usuarios (98.63%)\n",
      "Grupo 247: 2476 usuarios (98.53%)\n",
      "Diferencia de proporciones: 0.10%\n",
      "Z-score: 0.3093\n",
      "P-value: 0.7571\n",
      "No hay diferencia significativa (p ≥ 0.05)\n",
      "\n",
      " Análisis del evento: 'OffersScreenAppear'\n",
      "Grupo 246: 1542 usuarios (62.08%)\n",
      "Grupo 247: 1520 usuarios (60.49%)\n",
      "Diferencia de proporciones: 1.59%\n",
      "Z-score: 1.1550\n",
      "P-value: 0.2481\n",
      "No hay diferencia significativa (p ≥ 0.05)\n",
      "\n",
      " Análisis del evento: 'CartScreenAppear'\n",
      "Grupo 246: 1266 usuarios (50.97%)\n",
      "Grupo 247: 1238 usuarios (49.26%)\n",
      "Diferencia de proporciones: 1.70%\n",
      "Z-score: 1.2034\n",
      "P-value: 0.2288\n",
      "No hay diferencia significativa (p ≥ 0.05)\n",
      "\n",
      " Análisis del evento: 'PaymentScreenSuccessful'\n",
      "Grupo 246: 1200 usuarios (48.31%)\n",
      "Grupo 247: 1158 usuarios (46.08%)\n",
      "Diferencia de proporciones: 2.23%\n",
      "Z-score: 1.5780\n",
      "P-value: 0.1146\n",
      "No hay diferencia significativa (p ≥ 0.05)\n"
     ]
    }
   ],
   "source": [
    "analizar_evento(df_filtrado, \"MainScreenAppear\")\n",
    "analizar_evento(df_filtrado, \"OffersScreenAppear\")\n",
    "analizar_evento(df_filtrado, \"CartScreenAppear\")\n",
    "analizar_evento(df_filtrado, \"PaymentScreenSuccessful\")"
   ]
  },
  {
   "cell_type": "code",
   "execution_count": 77,
   "metadata": {},
   "outputs": [
    {
     "name": "stdout",
     "output_type": "stream",
     "text": [
      "                         Grupo 246  Grupo 247\n",
      "MainScreenAppear             37708      39123\n",
      "OffersScreenAppear           14773      15182\n",
      "CartScreenAppear             14711      12456\n",
      "PaymentScreenSuccessful      11910      10043\n",
      "Tutorial                       323        343\n"
     ]
    }
   ],
   "source": [
    "# Combinar los conteos en un DataFrame\n",
    "comparacion_eventos = pd.DataFrame({\n",
    "    'Grupo 246': eventos_246,\n",
    "    'Grupo 247': eventos_247\n",
    "}).fillna(0).astype(int)\n",
    "\n",
    "print(comparacion_eventos[['Grupo 246', 'Grupo 247']])"
   ]
  },
  {
   "cell_type": "code",
   "execution_count": 66,
   "metadata": {},
   "outputs": [
    {
     "data": {
      "image/png": "[encoded data removed]",
      "text/plain": [
       "<Figure size 1000x600 with 1 Axes>"
      ]
     },
     "metadata": {},
     "output_type": "display_data"
    }
   ],
   "source": [
    "# Contar eventos por tipo para cada grupo\n",
    "eventos_246 = df_filtrado[df_filtrado['expid'] == '246']['eventname'].value_counts()\n",
    "eventos_247 = df_filtrado[df_filtrado['expid'] == '247']['eventname'].value_counts()\n",
    "\n",
    "# Unir en un solo DataFrame\n",
    "comparacion_eventos = pd.DataFrame({\n",
    "    'Grupo 246': eventos_246,\n",
    "    'Grupo 247': eventos_247\n",
    "}).fillna(0).astype(int)\n",
    "\n",
    "# Reset index para graficar\n",
    "comparacion_eventos = comparacion_eventos.reset_index().rename(columns={'index': 'eventname'})\n",
    "\n",
    "# Configurar estilo de Seaborn\n",
    "sns.set(style=\"whitegrid\")\n",
    "\n",
    "# Crear gráfica\n",
    "plt.figure(figsize=(10, 6))\n",
    "bar_width = 0.4\n",
    "x = range(len(comparacion_eventos))\n",
    "\n",
    "plt.bar([i - bar_width/2 for i in x], comparacion_eventos['Grupo 246'], width=bar_width, label='Grupo 246')\n",
    "plt.bar([i + bar_width/2 for i in x], comparacion_eventos['Grupo 247'], width=bar_width, label='Grupo 247')\n",
    "\n",
    "# Etiquetas y título\n",
    "plt.xticks(ticks=x, labels=comparacion_eventos['eventname'], rotation=45, ha='right')\n",
    "plt.ylabel(\"Cantidad de eventos\")\n",
    "plt.title(\"Comparación de eventos entre grupos 246 y 247\")\n",
    "plt.legend()\n",
    "plt.tight_layout()\n",
    "\n",
    "# Mostrar\n",
    "plt.show()\n"
   ]
  },
  {
   "cell_type": "markdown",
   "metadata": {},
   "source": [
    "CONCLUSION:\n",
    "Despues de realizar los calculos y los graficos, podemos determinar que los grupos se dividieron correctamente para la prueba A/A"
   ]
  },
  {
   "cell_type": "markdown",
   "metadata": {},
   "source": [
    "<div class=\"alert alert-block alert-success\">\n",
    "<b>Comentario del revisor</b> <a class=\"tocSkip\"></a><br>\n",
    "\n",
    "<b>Éxito</b> - ¡Fantástico trabajo con el análisis estadístico del experimento A/A! La forma en que verificas la distribución de usuarios, realizas pruebas de hipótesis con Z-test, y concluyes sobre la significancia estadística demuestra un sólido dominio de experimentación controlada. Además, la implementación de funciones reutilizables como analizar_evento() muestra buenas prácticas de codificación y te permite escalar el análisis eficientemente para múltiples eventos. También es destacable el uso de visualizaciones claras para reforzar los hallazgos. ¡Sigue aplicando esta rigurosidad en tus análisis! 📈👏\n",
    "\n",
    "</div>"
   ]
  },
  {
   "cell_type": "markdown",
   "metadata": {},
   "source": [
    "# •\tHacer los mismos calculos para el grupo con fuentes alteradas. (grupo 248) "
   ]
  },
  {
   "cell_type": "markdown",
   "metadata": {},
   "source": [
    "**Comprueba si la diferencia entre los grupos 248 y 246 es estadísticamente significativa.**"
   ]
  },
  {
   "cell_type": "code",
   "execution_count": 89,
   "metadata": {},
   "outputs": [],
   "source": [
    "# Filtrar solo los grupos A/B (246 y 248)\n",
    "df_AB = df_filtrado[df_filtrado['expid'].isin(['246', '248'])]\n",
    "\n",
    "# Usuarios únicos por grupo\n",
    "total_246 = df_AB[(df_AB['expid'] == '246')]['deviceidhash'].nunique()\n",
    "total_248 = df_AB[(df_AB['expid'] == '248')]['deviceidhash'].nunique()\n",
    "\n",
    "def analizar_evento_AB(df, evento, grupo_A='246', grupo_B='248'):\n",
    "    # Filtrar por grupo\n",
    "    grupo_246 = df_AB[df_AB['expid'] == grupo_A]\n",
    "    grupo_248 = df_AB[df_AB['expid'] == grupo_B]\n",
    "\n",
    "    # Totales de usuarios por grupo\n",
    "    usuarios_totales_246 = grupo_246['deviceidhash'].nunique()\n",
    "    usuarios_totales_248 = grupo_248['deviceidhash'].nunique()\n",
    "    \n",
    "\n",
    "    # Usuarios que realizaron el evento\n",
    "    usuarios_evento_246 = grupo_246[grupo_246['eventname'] == evento]['deviceidhash'].nunique()\n",
    "    usuarios_evento_248 = grupo_248[grupo_248['eventname'] == evento]['deviceidhash'].nunique()\n",
    "\n",
    "    # Proporciones\n",
    "    p1 = usuarios_evento_246 / usuarios_totales_246\n",
    "    p2 = usuarios_evento_248 / usuarios_totales_248\n",
    "    p_combined = (usuarios_evento_246 + usuarios_evento_248) / (usuarios_totales_246 + usuarios_totales_248)\n",
    "    difference = p1 - p2\n",
    "\n",
    "    # Z-test\n",
    "    z_value = difference / mth.sqrt(p_combined * (1 - p_combined) * (1/usuarios_totales_246 + 1/usuarios_totales_248))\n",
    "    p_value = (1 - st.norm.cdf(abs(z_value))) * 2\n",
    "\n",
    "    # Resultados\n",
    "    print(f\"\\n Análisis del evento: '{evento}'\")\n",
    "    print(f\"Grupo {grupo_A}: {usuarios_evento_246} usuarios ({p1:.2%})\")\n",
    "    print(f\"Grupo {grupo_B}: {usuarios_evento_248} usuarios ({p2:.2%})\")\n",
    "    print(f\"Diferencia de proporciones: {difference:.2%}\")\n",
    "    print(f\"Z-score: {z_value:.4f}\")\n",
    "    print(f\"P-value: {p_value:.4f}\")\n",
    "\n",
    "    if p_value < 0.05:\n",
    "        print(\"Existe Diferencia estadísticamente significativa (p < 0.05)\")\n",
    "    else:\n",
    "        print(\"No hay diferencia significativa (p ≥ 0.05)\")"
   ]
  },
  {
   "cell_type": "code",
   "execution_count": 71,
   "metadata": {},
   "outputs": [
    {
     "name": "stdout",
     "output_type": "stream",
     "text": [
      "\n",
      " Análisis del evento: 'MainScreenAppear'\n",
      "Grupo 246: 2450 usuarios (98.63%)\n",
      "Grupo 248: 2493 usuarios (98.27%)\n",
      "Diferencia de proporciones: 0.37%\n",
      "Z-score: 1.0473\n",
      "P-value: 0.2950\n",
      "No hay diferencia significativa (p ≥ 0.05)\n",
      "\n",
      " Análisis del evento: 'OffersScreenAppear'\n",
      "Grupo 246: 1542 usuarios (62.08%)\n",
      "Grupo 248: 1531 usuarios (60.35%)\n",
      "Diferencia de proporciones: 1.73%\n",
      "Z-score: 1.2581\n",
      "P-value: 0.2084\n",
      "No hay diferencia significativa (p ≥ 0.05)\n",
      "\n",
      " Análisis del evento: 'CartScreenAppear'\n",
      "Grupo 246: 1266 usuarios (50.97%)\n",
      "Grupo 248: 1230 usuarios (48.48%)\n",
      "Diferencia de proporciones: 2.48%\n",
      "Z-score: 1.7599\n",
      "P-value: 0.0784\n",
      "No hay diferencia significativa (p ≥ 0.05)\n",
      "\n",
      " Análisis del evento: 'PaymentScreenSuccessful'\n",
      "Grupo 246: 1200 usuarios (48.31%)\n",
      "Grupo 248: 1181 usuarios (46.55%)\n",
      "Diferencia de proporciones: 1.76%\n",
      "Z-score: 1.2474\n",
      "P-value: 0.2123\n",
      "No hay diferencia significativa (p ≥ 0.05)\n"
     ]
    }
   ],
   "source": [
    "analizar_evento_AB(df_AB, \"MainScreenAppear\")\n",
    "analizar_evento_AB(df_AB, \"OffersScreenAppear\")\n",
    "analizar_evento_AB(df_AB, \"CartScreenAppear\")\n",
    "analizar_evento_AB(df_AB, \"PaymentScreenSuccessful\")"
   ]
  },
  {
   "cell_type": "markdown",
   "metadata": {},
   "source": [
    "**Comprueba si la diferencia entre los grupos 248 y 247 es estadísticamente significativa.**"
   ]
  },
  {
   "cell_type": "code",
   "execution_count": 103,
   "metadata": {},
   "outputs": [],
   "source": [
    "# Filtrar solo los grupos A2/B (247 y 248)\n",
    "df_A2B = df_filtrado[df_filtrado['expid'].isin(['247', '248'])]\n",
    "\n",
    "# Usuarios únicos por grupo\n",
    "total_247 = df_A2B[(df_A2B['expid'] == '247')]['deviceidhash'].nunique()\n",
    "total_248 = df_A2B[(df_A2B['expid'] == '248')]['deviceidhash'].nunique()\n",
    "\n",
    "def analizar_evento_A2B(df, evento, grupo_A2='247', grupo_B='248'):\n",
    "    # Filtrar por grupo\n",
    "    grupo_247 = df_A2B[df_A2B['expid'] == grupo_A2]\n",
    "    grupo_248 = df_A2B[df_A2B['expid'] == grupo_B]\n",
    "\n",
    "    # Totales de usuarios por grupo\n",
    "    usuarios_totales_247 = grupo_247['deviceidhash'].nunique()\n",
    "    usuarios_totales_248 = grupo_248['deviceidhash'].nunique()\n",
    "\n",
    "    # Usuarios que realizaron el evento\n",
    "    usuarios_evento_247 = grupo_247[grupo_247['eventname'] == evento]['deviceidhash'].nunique()\n",
    "    usuarios_evento_248 = grupo_248[grupo_248['eventname'] == evento]['deviceidhash'].nunique()\n",
    "\n",
    "    # Proporciones\n",
    "    p1 = usuarios_evento_247 / usuarios_totales_247\n",
    "    p2 = usuarios_evento_248 / usuarios_totales_248\n",
    "    p_combined = (usuarios_evento_247 + usuarios_evento_248) / (usuarios_totales_247 + usuarios_totales_248)\n",
    "    difference = p1 - p2\n",
    "\n",
    "    # Z-test\n",
    "    z_value = difference / mth.sqrt(p_combined * (1 - p_combined) * (1/usuarios_totales_247 + 1/usuarios_totales_248))\n",
    "    p_value = (1 - st.norm.cdf(abs(z_value))) * 2\n",
    "\n",
    "    # Resultados\n",
    "    print(f\"\\n Análisis del evento: '{evento}'\")\n",
    "    print(f\"Grupo {grupo_A2}: {usuarios_evento_247} usuarios ({p1:.2%})\")\n",
    "    print(f\"Grupo {grupo_B}: {usuarios_evento_248} usuarios ({p2:.2%})\")\n",
    "    print(f\"Diferencia de proporciones: {difference:.2%}\")\n",
    "    print(f\"Z-score: {z_value:.4f}\")\n",
    "    print(f\"P-value: {p_value:.4f}\")\n",
    "\n",
    "    if p_value < 0.05:\n",
    "        print(\"Existe Diferencia estadísticamente significativa (p < 0.05)\")\n",
    "    else:\n",
    "        print(\"No hay diferencia significativa (p ≥ 0.05)\")"
   ]
  },
  {
   "cell_type": "code",
   "execution_count": 104,
   "metadata": {},
   "outputs": [
    {
     "name": "stdout",
     "output_type": "stream",
     "text": [
      "\n",
      " Análisis del evento: 'MainScreenAppear'\n",
      "Grupo 247: 2476 usuarios (98.53%)\n",
      "Grupo 248: 2493 usuarios (98.27%)\n",
      "Diferencia de proporciones: 0.26%\n",
      "Z-score: 0.7410\n",
      "P-value: 0.4587\n",
      "No hay diferencia significativa (p ≥ 0.05)\n",
      "\n",
      " Análisis del evento: 'OffersScreenAppear'\n",
      "Grupo 247: 1520 usuarios (60.49%)\n",
      "Grupo 248: 1531 usuarios (60.35%)\n",
      "Diferencia de proporciones: 0.14%\n",
      "Z-score: 0.1007\n",
      "P-value: 0.9198\n",
      "No hay diferencia significativa (p ≥ 0.05)\n",
      "\n",
      " Análisis del evento: 'CartScreenAppear'\n",
      "Grupo 247: 1238 usuarios (49.26%)\n",
      "Grupo 248: 1230 usuarios (48.48%)\n",
      "Diferencia de proporciones: 0.78%\n",
      "Z-score: 0.5554\n",
      "P-value: 0.5786\n",
      "No hay diferencia significativa (p ≥ 0.05)\n",
      "\n",
      " Análisis del evento: 'PaymentScreenSuccessful'\n",
      "Grupo 247: 1158 usuarios (46.08%)\n",
      "Grupo 248: 1181 usuarios (46.55%)\n",
      "Diferencia de proporciones: -0.47%\n",
      "Z-score: -0.3354\n",
      "P-value: 0.7373\n",
      "No hay diferencia significativa (p ≥ 0.05)\n"
     ]
    }
   ],
   "source": [
    "analizar_evento_A2B(df_A2B, \"MainScreenAppear\")\n",
    "analizar_evento_A2B(df_A2B, \"OffersScreenAppear\")\n",
    "analizar_evento_A2B(df_A2B, \"CartScreenAppear\")\n",
    "analizar_evento_A2B(df_A2B, \"PaymentScreenSuccessful\")"
   ]
  },
  {
   "cell_type": "code",
   "execution_count": 78,
   "metadata": {
    "scrolled": true
   },
   "outputs": [
    {
     "name": "stdout",
     "output_type": "stream",
     "text": [
      "                         Grupo 246  Grupo 247  Grupo 248\n",
      "MainScreenAppear             37708      39123      40600\n",
      "OffersScreenAppear           14773      15182      16395\n",
      "CartScreenAppear             14711      12456      15198\n",
      "PaymentScreenSuccessful      11910      10043      12160\n",
      "Tutorial                       323        343        373\n"
     ]
    }
   ],
   "source": [
    "# Combinar los conteos en un DataFrame\n",
    "comparacion_eventos = pd.DataFrame({\n",
    "    'Grupo 246': eventos_246,\n",
    "    'Grupo 247': eventos_247,\n",
    "    'Grupo 248': eventos_248\n",
    "}).fillna(0).astype(int)\n",
    "\n",
    "print(comparacion_eventos[['Grupo 246', 'Grupo 247', 'Grupo 248']])"
   ]
  },
  {
   "cell_type": "code",
   "execution_count": 90,
   "metadata": {},
   "outputs": [
    {
     "data": {
      "image/png": "[encoded data removed]",
      "text/plain": [
       "<Figure size 1200x700 with 1 Axes>"
      ]
     },
     "metadata": {},
     "output_type": "display_data"
    }
   ],
   "source": [
    "#Contar eventos por tipo para cada grupo\n",
    "eventos_246 = df_filtrado[df_filtrado['expid'] == '246']['eventname'].value_counts()\n",
    "eventos_247 = df_filtrado[df_filtrado['expid'] == '247']['eventname'].value_counts()\n",
    "eventos_248 = df_filtrado[df_filtrado['expid'] == '248']['eventname'].value_counts()\n",
    "\n",
    "#Unir en un solo DataFrame y ordenar por evento\n",
    "comparacion_eventos = pd.DataFrame({\n",
    "    'Grupo 246': eventos_246,\n",
    "    'Grupo 247': eventos_247,\n",
    "    'Grupo 248': eventos_248\n",
    "}).fillna(0).astype(int)\n",
    "\n",
    "# Configuración del gráfico\n",
    "plt.figure(figsize=(12, 7))\n",
    "sns.set(style=\"whitegrid\")\n",
    "bar_width = 0.25\n",
    "x = range(len(comparacion_eventos))\n",
    "\n",
    "# Posicionamiento preciso de las barras\n",
    "plt.bar([i - bar_width for i in x], comparacion_eventos['Grupo 246'], width=bar_width, label='Grupo 246', color='#1f77b4')\n",
    "plt.bar([i for i in x], comparacion_eventos['Grupo 247'], width=bar_width, label='Grupo 247', color='#ff7f0e')\n",
    "plt.bar([i + bar_width for i in x], comparacion_eventos['Grupo 248'], width=bar_width, label='Grupo 248', color='#2ca02c')\n",
    "\n",
    "# Personalización del gráfico\n",
    "plt.xticks(ticks=x, labels=comparacion_eventos.index, rotation=45, ha='right', fontsize=10)\n",
    "plt.ylabel(\"Cantidad de eventos\", fontsize=12)\n",
    "plt.xlabel(\"Tipo de evento\", fontsize=12)\n",
    "plt.title(\"Comparación de eventos entre grupos 246, 247 y 248\", fontsize=14, pad=20)\n",
    "\n",
    "# Añadir valores encima de las barras\n",
    "for i in x:\n",
    "    for j, grupo in enumerate(['Grupo 246', 'Grupo 247', 'Grupo 248']):\n",
    "        height = comparacion_eventos[grupo].iloc[i]\n",
    "        plt.text(i + (j-1)*bar_width, height + max(comparacion_eventos.max())*0.01, \n",
    "                 f'{height:,}', ha='center', va='bottom', fontsize=9)\n",
    "\n",
    "plt.legend(title='Grupo Experimental', bbox_to_anchor=(1.05, 1), loc='upper left')\n",
    "plt.tight_layout()\n",
    "plt.show()"
   ]
  },
  {
   "cell_type": "markdown",
   "metadata": {},
   "source": [
    "# CONCLUSION GENERAL"
   ]
  },
  {
   "cell_type": "markdown",
   "metadata": {},
   "source": [
    "Despues de realizar los analisis entre grupos de control A/A ( grupos 246/247), pudimos ver que los grupos de control estaban bien distribuidos y no tenian diferencia significativa entre si, lo que nos indicaba una prueba estable y confiable para poder realizar analisis y comparaciones con el grupo de prueba B (grupo 248).\n",
    "\n",
    "Al finalizar las comparaciones y realizado las pruebas estadisticas y graficas de los datos obtenidos; y no se encontro evidencia estadisticamente significativamente que nos pudiera indicar que el nuevo diseño de la aplicacion tenga algun impacto negativo hacia los usuarios de la misma; y de igual forma tampoco se pudo observar un impacto de manera inversa, esto es, que aumentaran las ventas o los ingresos; por lo que el cambio de diseño en la aplicacion es confiable y se puede implementar, considerando que la razon de evitar el cambio era por temor a un impacto negativo hacia los clientes, y con los estudios realizados, esto no sucede. Por lo que la sugerencia es SI realizar la implementacion del nuevo diseño de la aplicacion."
   ]
  },
  {
   "cell_type": "markdown",
   "metadata": {},
   "source": [
    "\n",
    "# Comentario General del Revisor\n",
    "\n",
    "<div class=\"alert alert-block alert-success\">\n",
    "\n",
    "<b>Comentario del revisor</b> <a class=\"tocSkip\"></a>\n",
    "\n",
    "¡Felicidades! Tu proyecto está <b>aprobado</b>. Has demostrado un excelente manejo del análisis de datos, diseño experimental y validación estadística. El enfoque en validar cuidadosamente la integridad de los datos, establecer comparaciones sólidas entre grupos y extraer conclusiones accionables es digno de reconocimiento.\n",
    "\n",
    "#### Puntos Positivos:\n",
    "\n",
    "- **Control de calidad en los datos:** Identificaste correctamente el punto donde los datos se vuelven estables y filtraste inteligentemente para evitar sesgos.\n",
    "- **Embudo de conversión:** Muy bien definido, con métricas claras de paso a paso, y una interpretación concisa sobre dónde se pierde más tráfico.\n",
    "- **Evaluación estadística rigurosa:** Realizaste comparaciones sólidas entre grupos A/A y A/B, aplicando pruebas Z correctamente y encapsulando lógica repetitiva en funciones reutilizables.\n",
    "- **Visualización clara:** Los gráficos comparativos entre grupos están bien etiquetados y son fáciles de entender, apoyando la toma de decisiones.\n",
    "- **Conclusión bien fundamentada:** No se detecta impacto negativo del nuevo diseño, y la recomendación final está justificada con datos.\n",
    "\n",
    "#### Áreas para Seguir Investigando:\n",
    "\n",
    "- **Optimización de visualizaciones:** Puedes explorar técnicas más avanzadas con `plotly` o `dash` para mejorar la interactividad.\n",
    "- **Simulación de poder estadístico:** Podrías calcular el poder del test para reforzar la solidez del análisis.\n",
    "- **Análisis de cohortes:** Investigar si ciertos grupos de usuarios (por fecha o dispositivo) responden diferente al cambio de fuentes.\n",
    "- **Segmentación adicional:** Aplicar clustering o segmentaciones por comportamiento para ver si ciertos perfiles reaccionan diferente al rediseño.\n",
    "\n",
    "¡Sigue así, estás haciendo un gran trabajo! 💪🚀😊\n",
    "\n",
    "</div> \n"
   ]
  },
  {
   "cell_type": "code",
   "execution_count": null,
   "metadata": {},
   "outputs": [],
   "source": []
  }
 ],
 "metadata": {
  "ExecuteTimeLog": [
   {
    "duration": 156,
    "start_time": "2025-04-12T17:32:31.407Z"
   },
   {
    "duration": 2531,
    "start_time": "2025-04-12T17:32:38.888Z"
   },
   {
    "duration": 257,
    "start_time": "2025-04-12T17:32:41.421Z"
   },
   {
    "duration": 16,
    "start_time": "2025-04-12T17:33:42.868Z"
   },
   {
    "duration": 10,
    "start_time": "2025-04-12T17:33:57.491Z"
   },
   {
    "duration": 83,
    "start_time": "2025-04-12T17:34:24.358Z"
   },
   {
    "duration": 25,
    "start_time": "2025-04-12T17:34:41.580Z"
   },
   {
    "duration": 14,
    "start_time": "2025-04-12T17:34:47.544Z"
   },
   {
    "duration": 100,
    "start_time": "2025-04-12T17:36:22.237Z"
   },
   {
    "duration": 16,
    "start_time": "2025-04-12T17:36:24.449Z"
   },
   {
    "duration": 6,
    "start_time": "2025-04-12T17:36:49.924Z"
   },
   {
    "duration": 5,
    "start_time": "2025-04-12T17:36:51.293Z"
   },
   {
    "duration": 3,
    "start_time": "2025-04-12T17:37:47.571Z"
   },
   {
    "duration": 246,
    "start_time": "2025-04-12T17:43:13.771Z"
   },
   {
    "duration": 23,
    "start_time": "2025-04-12T17:46:50.941Z"
   },
   {
    "duration": 173,
    "start_time": "2025-04-12T17:48:20.452Z"
   },
   {
    "duration": 411,
    "start_time": "2025-04-12T17:48:55.769Z"
   },
   {
    "duration": 16,
    "start_time": "2025-04-12T17:49:18.379Z"
   },
   {
    "duration": 3,
    "start_time": "2025-04-12T17:51:35.602Z"
   },
   {
    "duration": 40,
    "start_time": "2025-04-12T17:52:32.244Z"
   },
   {
    "duration": 40,
    "start_time": "2025-04-12T17:52:45.267Z"
   },
   {
    "duration": 27,
    "start_time": "2025-04-12T17:52:50.401Z"
   },
   {
    "duration": 28,
    "start_time": "2025-04-12T17:54:23.812Z"
   },
   {
    "duration": 40,
    "start_time": "2025-04-12T17:56:18.993Z"
   },
   {
    "duration": 5,
    "start_time": "2025-04-12T17:56:32.448Z"
   },
   {
    "duration": 4,
    "start_time": "2025-04-12T17:56:46.126Z"
   },
   {
    "duration": 415,
    "start_time": "2025-04-12T17:57:30.706Z"
   },
   {
    "duration": 57,
    "start_time": "2025-04-12T17:58:18.081Z"
   },
   {
    "duration": 44,
    "start_time": "2025-04-12T17:58:44.064Z"
   },
   {
    "duration": 3,
    "start_time": "2025-04-12T17:59:18.233Z"
   },
   {
    "duration": 157,
    "start_time": "2025-04-12T17:59:34.524Z"
   },
   {
    "duration": 3,
    "start_time": "2025-04-12T18:00:24.418Z"
   },
   {
    "duration": 22,
    "start_time": "2025-04-12T18:00:59.736Z"
   },
   {
    "duration": 22,
    "start_time": "2025-04-12T18:01:06.002Z"
   },
   {
    "duration": 21,
    "start_time": "2025-04-12T18:01:12.979Z"
   },
   {
    "duration": 20,
    "start_time": "2025-04-12T18:01:18.503Z"
   },
   {
    "duration": 21,
    "start_time": "2025-04-12T18:01:23.693Z"
   },
   {
    "duration": 21,
    "start_time": "2025-04-12T18:01:28.938Z"
   },
   {
    "duration": 21,
    "start_time": "2025-04-12T18:01:33.676Z"
   },
   {
    "duration": 160,
    "start_time": "2025-04-14T16:05:13.588Z"
   },
   {
    "duration": 2533,
    "start_time": "2025-04-14T16:05:31.178Z"
   },
   {
    "duration": 135,
    "start_time": "2025-04-14T16:05:33.713Z"
   },
   {
    "duration": 17,
    "start_time": "2025-04-14T16:05:33.850Z"
   },
   {
    "duration": 8,
    "start_time": "2025-04-14T16:05:33.869Z"
   },
   {
    "duration": 3,
    "start_time": "2025-04-14T16:05:33.879Z"
   },
   {
    "duration": 252,
    "start_time": "2025-04-14T16:05:33.883Z"
   },
   {
    "duration": 26,
    "start_time": "2025-04-14T16:05:34.138Z"
   },
   {
    "duration": 192,
    "start_time": "2025-04-14T16:05:34.166Z"
   },
   {
    "duration": 13,
    "start_time": "2025-04-14T16:05:34.360Z"
   },
   {
    "duration": 3,
    "start_time": "2025-04-14T16:05:34.375Z"
   },
   {
    "duration": 26,
    "start_time": "2025-04-14T16:05:34.380Z"
   },
   {
    "duration": 48,
    "start_time": "2025-04-14T16:05:34.408Z"
   },
   {
    "duration": 4,
    "start_time": "2025-04-14T16:05:34.459Z"
   },
   {
    "duration": 445,
    "start_time": "2025-04-14T16:05:34.465Z"
   },
   {
    "duration": 58,
    "start_time": "2025-04-14T16:05:34.911Z"
   },
   {
    "duration": 3,
    "start_time": "2025-04-14T16:05:34.971Z"
   },
   {
    "duration": 168,
    "start_time": "2025-04-14T16:05:34.975Z"
   },
   {
    "duration": 287,
    "start_time": "2025-04-14T16:07:15.345Z"
   },
   {
    "duration": 16,
    "start_time": "2025-04-14T16:07:28.766Z"
   },
   {
    "duration": 17,
    "start_time": "2025-04-14T16:09:24.611Z"
   },
   {
    "duration": 5,
    "start_time": "2025-04-14T16:10:35.588Z"
   },
   {
    "duration": 17,
    "start_time": "2025-04-14T16:10:45.419Z"
   },
   {
    "duration": 21,
    "start_time": "2025-04-14T16:14:40.563Z"
   },
   {
    "duration": 45,
    "start_time": "2025-04-14T16:15:21.027Z"
   },
   {
    "duration": 21,
    "start_time": "2025-04-14T16:15:33.092Z"
   },
   {
    "duration": 9,
    "start_time": "2025-04-14T17:23:47.215Z"
   },
   {
    "duration": 37,
    "start_time": "2025-04-14T17:24:06.312Z"
   },
   {
    "duration": 19,
    "start_time": "2025-04-14T17:26:04.989Z"
   },
   {
    "duration": 18,
    "start_time": "2025-04-14T17:26:54.243Z"
   },
   {
    "duration": 32,
    "start_time": "2025-04-14T17:27:06.327Z"
   },
   {
    "duration": 19,
    "start_time": "2025-04-14T17:27:16.450Z"
   },
   {
    "duration": 19,
    "start_time": "2025-04-14T17:27:23.854Z"
   },
   {
    "duration": 5,
    "start_time": "2025-04-14T17:27:37.743Z"
   },
   {
    "duration": 18,
    "start_time": "2025-04-14T17:28:04.876Z"
   },
   {
    "duration": 830,
    "start_time": "2025-04-14T17:30:41.738Z"
   },
   {
    "duration": 107,
    "start_time": "2025-04-14T17:30:42.570Z"
   },
   {
    "duration": 17,
    "start_time": "2025-04-14T17:30:42.679Z"
   },
   {
    "duration": 7,
    "start_time": "2025-04-14T17:30:42.699Z"
   },
   {
    "duration": 3,
    "start_time": "2025-04-14T17:30:42.708Z"
   },
   {
    "duration": 239,
    "start_time": "2025-04-14T17:30:42.731Z"
   },
   {
    "duration": 23,
    "start_time": "2025-04-14T17:30:42.972Z"
   },
   {
    "duration": 193,
    "start_time": "2025-04-14T17:30:42.997Z"
   },
   {
    "duration": 13,
    "start_time": "2025-04-14T17:30:43.192Z"
   },
   {
    "duration": 3,
    "start_time": "2025-04-14T17:30:43.208Z"
   },
   {
    "duration": 43,
    "start_time": "2025-04-14T17:30:43.212Z"
   },
   {
    "duration": 26,
    "start_time": "2025-04-14T17:30:43.258Z"
   },
   {
    "duration": 4,
    "start_time": "2025-04-14T17:30:43.286Z"
   },
   {
    "duration": 454,
    "start_time": "2025-04-14T17:30:43.292Z"
   },
   {
    "duration": 52,
    "start_time": "2025-04-14T17:30:43.748Z"
   },
   {
    "duration": 2,
    "start_time": "2025-04-14T17:30:43.802Z"
   },
   {
    "duration": 108,
    "start_time": "2025-04-14T17:30:43.806Z"
   },
   {
    "duration": 37,
    "start_time": "2025-04-14T17:30:43.916Z"
   },
   {
    "duration": 20,
    "start_time": "2025-04-14T17:30:43.955Z"
   },
   {
    "duration": 17,
    "start_time": "2025-04-14T17:30:54.097Z"
   },
   {
    "duration": 251,
    "start_time": "2025-04-14T17:40:16.050Z"
   },
   {
    "duration": 53,
    "start_time": "2025-04-14T17:44:47.521Z"
   },
   {
    "duration": 247,
    "start_time": "2025-04-14T17:45:53.289Z"
   },
   {
    "duration": 26,
    "start_time": "2025-04-14T17:48:09.032Z"
   },
   {
    "duration": 95,
    "start_time": "2025-04-14T17:48:23.420Z"
   },
   {
    "duration": 77,
    "start_time": "2025-04-14T17:48:45.084Z"
   },
   {
    "duration": 75,
    "start_time": "2025-04-14T17:49:23.233Z"
   },
   {
    "duration": 261,
    "start_time": "2025-04-14T17:49:28.437Z"
   },
   {
    "duration": 51,
    "start_time": "2025-04-14T19:01:53.820Z"
   },
   {
    "duration": 6,
    "start_time": "2025-04-14T19:09:18.463Z"
   },
   {
    "duration": 5,
    "start_time": "2025-04-14T19:10:02.347Z"
   },
   {
    "duration": 19,
    "start_time": "2025-04-14T19:11:49.231Z"
   },
   {
    "duration": 4,
    "start_time": "2025-04-14T19:13:05.430Z"
   },
   {
    "duration": 18,
    "start_time": "2025-04-14T19:16:04.690Z"
   },
   {
    "duration": 389,
    "start_time": "2025-04-14T19:24:11.052Z"
   },
   {
    "duration": 19,
    "start_time": "2025-04-14T19:26:21.652Z"
   },
   {
    "duration": 41,
    "start_time": "2025-04-14T19:26:57.973Z"
   },
   {
    "duration": 41,
    "start_time": "2025-04-14T19:27:24.357Z"
   },
   {
    "duration": 36,
    "start_time": "2025-04-14T19:40:28.809Z"
   },
   {
    "duration": 41,
    "start_time": "2025-04-14T19:41:03.600Z"
   },
   {
    "duration": 76,
    "start_time": "2025-04-14T19:45:34.318Z"
   },
   {
    "duration": 6,
    "start_time": "2025-04-14T19:46:05.016Z"
   },
   {
    "duration": 6,
    "start_time": "2025-04-14T19:46:32.984Z"
   },
   {
    "duration": 14,
    "start_time": "2025-04-14T19:51:05.870Z"
   },
   {
    "duration": 12,
    "start_time": "2025-04-14T19:51:57.154Z"
   },
   {
    "duration": 55,
    "start_time": "2025-04-14T19:57:50.560Z"
   },
   {
    "duration": 53,
    "start_time": "2025-04-14T19:58:14.720Z"
   },
   {
    "duration": 361,
    "start_time": "2025-04-14T19:58:32.027Z"
   },
   {
    "duration": 36,
    "start_time": "2025-04-14T20:31:23.102Z"
   },
   {
    "duration": 232,
    "start_time": "2025-04-14T20:33:36.735Z"
   },
   {
    "duration": 55,
    "start_time": "2025-04-14T20:35:38.576Z"
   },
   {
    "duration": 4,
    "start_time": "2025-04-14T20:39:21.881Z"
   },
   {
    "duration": 5,
    "start_time": "2025-04-14T20:41:45.929Z"
   },
   {
    "duration": 6,
    "start_time": "2025-04-14T20:43:57.003Z"
   },
   {
    "duration": 5,
    "start_time": "2025-04-14T20:47:20.120Z"
   },
   {
    "duration": 302,
    "start_time": "2025-04-14T20:47:41.464Z"
   },
   {
    "duration": 5,
    "start_time": "2025-04-14T20:48:16.405Z"
   },
   {
    "duration": 310,
    "start_time": "2025-04-14T20:48:23.626Z"
   },
   {
    "duration": 3,
    "start_time": "2025-04-14T20:54:04.834Z"
   },
   {
    "duration": 46,
    "start_time": "2025-04-14T20:57:00.344Z"
   },
   {
    "duration": 29,
    "start_time": "2025-04-14T20:58:11.040Z"
   },
   {
    "duration": 21,
    "start_time": "2025-04-14T21:00:08.593Z"
   },
   {
    "duration": 31,
    "start_time": "2025-04-14T21:02:22.015Z"
   },
   {
    "duration": 7,
    "start_time": "2025-04-14T21:08:31.918Z"
   },
   {
    "duration": 309,
    "start_time": "2025-04-14T21:11:16.728Z"
   },
   {
    "duration": 8,
    "start_time": "2025-04-14T21:11:25.443Z"
   },
   {
    "duration": 5,
    "start_time": "2025-04-14T21:12:05.410Z"
   },
   {
    "duration": 6,
    "start_time": "2025-04-14T21:14:00.689Z"
   },
   {
    "duration": 5,
    "start_time": "2025-04-14T21:15:03.118Z"
   },
   {
    "duration": 857,
    "start_time": "2025-04-14T21:15:12.953Z"
   },
   {
    "duration": 102,
    "start_time": "2025-04-14T21:15:13.812Z"
   },
   {
    "duration": 20,
    "start_time": "2025-04-14T21:15:13.916Z"
   },
   {
    "duration": 8,
    "start_time": "2025-04-14T21:15:13.939Z"
   },
   {
    "duration": 3,
    "start_time": "2025-04-14T21:15:13.948Z"
   },
   {
    "duration": 260,
    "start_time": "2025-04-14T21:15:13.952Z"
   },
   {
    "duration": 31,
    "start_time": "2025-04-14T21:15:14.214Z"
   },
   {
    "duration": 185,
    "start_time": "2025-04-14T21:15:14.247Z"
   },
   {
    "duration": 13,
    "start_time": "2025-04-14T21:15:14.433Z"
   },
   {
    "duration": 3,
    "start_time": "2025-04-14T21:15:14.449Z"
   },
   {
    "duration": 27,
    "start_time": "2025-04-14T21:15:14.453Z"
   },
   {
    "duration": 51,
    "start_time": "2025-04-14T21:15:14.482Z"
   },
   {
    "duration": 5,
    "start_time": "2025-04-14T21:15:14.535Z"
   },
   {
    "duration": 473,
    "start_time": "2025-04-14T21:15:14.542Z"
   },
   {
    "duration": 74,
    "start_time": "2025-04-14T21:15:15.017Z"
   },
   {
    "duration": 3,
    "start_time": "2025-04-14T21:15:15.093Z"
   },
   {
    "duration": 97,
    "start_time": "2025-04-14T21:15:15.098Z"
   },
   {
    "duration": 43,
    "start_time": "2025-04-14T21:15:15.197Z"
   },
   {
    "duration": 24,
    "start_time": "2025-04-14T21:15:15.242Z"
   },
   {
    "duration": 21,
    "start_time": "2025-04-14T21:15:15.269Z"
   },
   {
    "duration": 307,
    "start_time": "2025-04-14T21:15:15.293Z"
   },
   {
    "duration": 58,
    "start_time": "2025-04-14T21:15:15.602Z"
   },
   {
    "duration": 248,
    "start_time": "2025-04-14T21:15:15.662Z"
   },
   {
    "duration": 82,
    "start_time": "2025-04-14T21:15:15.912Z"
   },
   {
    "duration": 284,
    "start_time": "2025-04-14T21:15:15.996Z"
   },
   {
    "duration": 68,
    "start_time": "2025-04-14T21:15:16.283Z"
   },
   {
    "duration": 6,
    "start_time": "2025-04-14T21:15:16.353Z"
   },
   {
    "duration": 21,
    "start_time": "2025-04-14T21:15:16.364Z"
   },
   {
    "duration": 4,
    "start_time": "2025-04-14T21:15:16.387Z"
   },
   {
    "duration": 474,
    "start_time": "2025-04-14T21:15:16.393Z"
   },
   {
    "duration": 20,
    "start_time": "2025-04-14T21:15:16.870Z"
   },
   {
    "duration": 55,
    "start_time": "2025-04-14T21:15:16.892Z"
   },
   {
    "duration": 87,
    "start_time": "2025-04-14T21:15:16.949Z"
   },
   {
    "duration": 6,
    "start_time": "2025-04-14T21:15:17.038Z"
   },
   {
    "duration": 14,
    "start_time": "2025-04-14T21:15:17.046Z"
   },
   {
    "duration": 38,
    "start_time": "2025-04-14T21:15:17.062Z"
   },
   {
    "duration": 102,
    "start_time": "2025-04-14T21:15:17.102Z"
   },
   {
    "duration": 6,
    "start_time": "2025-04-14T21:15:17.207Z"
   },
   {
    "duration": 5,
    "start_time": "2025-04-14T21:15:17.232Z"
   },
   {
    "duration": 387,
    "start_time": "2025-04-14T21:15:17.240Z"
   },
   {
    "duration": 9,
    "start_time": "2025-04-14T21:15:17.633Z"
   },
   {
    "duration": 379,
    "start_time": "2025-04-14T21:15:17.644Z"
   },
   {
    "duration": 27,
    "start_time": "2025-04-14T21:15:18.025Z"
   },
   {
    "duration": 25,
    "start_time": "2025-04-14T21:15:18.053Z"
   },
   {
    "duration": 52,
    "start_time": "2025-04-14T21:15:18.079Z"
   },
   {
    "duration": 6,
    "start_time": "2025-04-14T21:15:18.133Z"
   },
   {
    "duration": 6,
    "start_time": "2025-04-14T21:15:18.140Z"
   },
   {
    "duration": 5,
    "start_time": "2025-04-14T21:15:18.147Z"
   },
   {
    "duration": 340,
    "start_time": "2025-04-14T21:16:29.751Z"
   },
   {
    "duration": 157,
    "start_time": "2025-04-15T15:10:56.593Z"
   },
   {
    "duration": 2510,
    "start_time": "2025-04-15T15:11:04.470Z"
   },
   {
    "duration": 130,
    "start_time": "2025-04-15T15:11:06.983Z"
   },
   {
    "duration": 19,
    "start_time": "2025-04-15T15:11:07.115Z"
   },
   {
    "duration": 8,
    "start_time": "2025-04-15T15:11:07.136Z"
   },
   {
    "duration": 4,
    "start_time": "2025-04-15T15:11:07.147Z"
   },
   {
    "duration": 277,
    "start_time": "2025-04-15T15:11:07.152Z"
   },
   {
    "duration": 23,
    "start_time": "2025-04-15T15:11:07.430Z"
   },
   {
    "duration": 181,
    "start_time": "2025-04-15T15:11:07.455Z"
   },
   {
    "duration": 12,
    "start_time": "2025-04-15T15:11:07.638Z"
   },
   {
    "duration": 3,
    "start_time": "2025-04-15T15:11:07.652Z"
   },
   {
    "duration": 26,
    "start_time": "2025-04-15T15:11:07.657Z"
   },
   {
    "duration": 46,
    "start_time": "2025-04-15T15:11:07.685Z"
   },
   {
    "duration": 6,
    "start_time": "2025-04-15T15:11:07.733Z"
   },
   {
    "duration": 435,
    "start_time": "2025-04-15T15:11:07.743Z"
   },
   {
    "duration": 57,
    "start_time": "2025-04-15T15:11:08.180Z"
   },
   {
    "duration": 3,
    "start_time": "2025-04-15T15:11:08.239Z"
   },
   {
    "duration": 28,
    "start_time": "2025-04-15T15:11:08.244Z"
   },
   {
    "duration": 50,
    "start_time": "2025-04-15T15:11:08.274Z"
   },
   {
    "duration": 19,
    "start_time": "2025-04-15T15:11:08.326Z"
   },
   {
    "duration": 17,
    "start_time": "2025-04-15T15:11:08.347Z"
   },
   {
    "duration": 306,
    "start_time": "2025-04-15T15:11:08.366Z"
   },
   {
    "duration": 61,
    "start_time": "2025-04-15T15:11:08.674Z"
   },
   {
    "duration": 243,
    "start_time": "2025-04-15T15:11:08.737Z"
   },
   {
    "duration": 83,
    "start_time": "2025-04-15T15:11:08.981Z"
   },
   {
    "duration": 249,
    "start_time": "2025-04-15T15:11:09.066Z"
   },
   {
    "duration": 52,
    "start_time": "2025-04-15T15:11:09.317Z"
   },
   {
    "duration": 4,
    "start_time": "2025-04-15T15:11:09.371Z"
   },
   {
    "duration": 33,
    "start_time": "2025-04-15T15:11:09.377Z"
   },
   {
    "duration": 5,
    "start_time": "2025-04-15T15:11:09.412Z"
   },
   {
    "duration": 425,
    "start_time": "2025-04-15T15:11:09.419Z"
   },
   {
    "duration": 18,
    "start_time": "2025-04-15T15:11:09.845Z"
   },
   {
    "duration": 53,
    "start_time": "2025-04-15T15:11:09.865Z"
   },
   {
    "duration": 132,
    "start_time": "2025-04-15T15:11:09.921Z"
   },
   {
    "duration": 7,
    "start_time": "2025-04-15T15:11:10.055Z"
   },
   {
    "duration": 14,
    "start_time": "2025-04-15T15:11:10.064Z"
   },
   {
    "duration": 52,
    "start_time": "2025-04-15T15:11:10.080Z"
   },
   {
    "duration": 48,
    "start_time": "2025-04-15T15:11:10.134Z"
   },
   {
    "duration": 5,
    "start_time": "2025-04-15T15:11:10.184Z"
   },
   {
    "duration": 23,
    "start_time": "2025-04-15T15:11:10.191Z"
   },
   {
    "duration": 325,
    "start_time": "2025-04-15T15:11:10.215Z"
   },
   {
    "duration": 7,
    "start_time": "2025-04-15T15:11:10.544Z"
   },
   {
    "duration": 357,
    "start_time": "2025-04-15T15:11:10.553Z"
   },
   {
    "duration": 27,
    "start_time": "2025-04-15T15:11:10.911Z"
   },
   {
    "duration": 21,
    "start_time": "2025-04-15T15:11:10.940Z"
   },
   {
    "duration": 46,
    "start_time": "2025-04-15T15:11:10.963Z"
   },
   {
    "duration": 7,
    "start_time": "2025-04-15T15:11:11.010Z"
   },
   {
    "duration": 6,
    "start_time": "2025-04-15T15:11:11.019Z"
   },
   {
    "duration": 5,
    "start_time": "2025-04-15T15:11:11.026Z"
   },
   {
    "duration": 336,
    "start_time": "2025-04-15T15:11:11.033Z"
   },
   {
    "duration": 71,
    "start_time": "2025-04-15T15:15:20.543Z"
   },
   {
    "duration": 6,
    "start_time": "2025-04-15T15:34:04.265Z"
   },
   {
    "duration": 274,
    "start_time": "2025-04-15T16:27:34.371Z"
   },
   {
    "duration": 60,
    "start_time": "2025-04-15T16:29:30.491Z"
   },
   {
    "duration": 65,
    "start_time": "2025-04-15T16:33:19.828Z"
   },
   {
    "duration": 148,
    "start_time": "2025-04-15T16:47:17.173Z"
   },
   {
    "duration": 109,
    "start_time": "2025-04-15T16:51:54.027Z"
   },
   {
    "duration": 109,
    "start_time": "2025-04-15T16:52:30.156Z"
   },
   {
    "duration": 110,
    "start_time": "2025-04-15T16:52:42.691Z"
   },
   {
    "duration": 107,
    "start_time": "2025-04-15T16:53:43.775Z"
   },
   {
    "duration": 54,
    "start_time": "2025-04-15T16:59:21.787Z"
   },
   {
    "duration": 110,
    "start_time": "2025-04-15T17:03:56.434Z"
   },
   {
    "duration": 53,
    "start_time": "2025-04-15T17:06:45.055Z"
   },
   {
    "duration": 47,
    "start_time": "2025-04-15T17:07:05.953Z"
   },
   {
    "duration": 6,
    "start_time": "2025-04-15T17:15:56.659Z"
   },
   {
    "duration": 8,
    "start_time": "2025-04-15T17:17:25.719Z"
   },
   {
    "duration": 291,
    "start_time": "2025-04-15T17:17:33.308Z"
   },
   {
    "duration": 76,
    "start_time": "2025-04-15T17:28:31.070Z"
   },
   {
    "duration": 77,
    "start_time": "2025-04-15T17:29:46.077Z"
   },
   {
    "duration": 101,
    "start_time": "2025-04-15T17:29:47.582Z"
   },
   {
    "duration": 83,
    "start_time": "2025-04-15T17:30:27.224Z"
   },
   {
    "duration": 297,
    "start_time": "2025-04-15T17:30:29.342Z"
   },
   {
    "duration": 5,
    "start_time": "2025-04-15T17:35:01.319Z"
   },
   {
    "duration": 306,
    "start_time": "2025-04-15T17:35:03.889Z"
   },
   {
    "duration": 5,
    "start_time": "2025-04-15T17:36:43.280Z"
   },
   {
    "duration": 5,
    "start_time": "2025-04-15T17:37:04.058Z"
   },
   {
    "duration": 6,
    "start_time": "2025-04-15T17:38:15.724Z"
   },
   {
    "duration": 5,
    "start_time": "2025-04-15T17:39:18.104Z"
   },
   {
    "duration": 5,
    "start_time": "2025-04-15T17:39:41.683Z"
   },
   {
    "duration": 358,
    "start_time": "2025-04-15T17:40:55.257Z"
   },
   {
    "duration": 353,
    "start_time": "2025-04-15T17:41:14.136Z"
   },
   {
    "duration": 358,
    "start_time": "2025-04-15T17:42:24.882Z"
   },
   {
    "duration": 418,
    "start_time": "2025-04-15T17:42:39.199Z"
   },
   {
    "duration": 411,
    "start_time": "2025-04-15T17:42:51.514Z"
   },
   {
    "duration": 379,
    "start_time": "2025-04-15T17:42:57.219Z"
   },
   {
    "duration": 376,
    "start_time": "2025-04-15T17:43:04.302Z"
   },
   {
    "duration": 396,
    "start_time": "2025-04-15T17:43:16.924Z"
   },
   {
    "duration": 248,
    "start_time": "2025-04-15T17:45:46.674Z"
   },
   {
    "duration": 404,
    "start_time": "2025-04-15T17:46:54.975Z"
   },
   {
    "duration": 82,
    "start_time": "2025-04-15T17:47:56.025Z"
   },
   {
    "duration": 455,
    "start_time": "2025-04-15T17:52:51.181Z"
   },
   {
    "duration": 77,
    "start_time": "2025-04-15T17:58:21.804Z"
   },
   {
    "duration": 304,
    "start_time": "2025-04-15T17:58:23.778Z"
   },
   {
    "duration": 720,
    "start_time": "2025-04-15T18:08:31.367Z"
   },
   {
    "duration": 41,
    "start_time": "2025-04-15T18:09:51.991Z"
   },
   {
    "duration": 307,
    "start_time": "2025-04-15T18:12:10.179Z"
   },
   {
    "duration": 11,
    "start_time": "2025-04-15T18:12:26.929Z"
   },
   {
    "duration": 22,
    "start_time": "2025-04-15T18:12:40.792Z"
   },
   {
    "duration": 15,
    "start_time": "2025-04-15T18:12:59.981Z"
   },
   {
    "duration": 14,
    "start_time": "2025-04-15T18:13:35.159Z"
   },
   {
    "duration": 71,
    "start_time": "2025-04-15T18:14:29.137Z"
   },
   {
    "duration": 84,
    "start_time": "2025-04-15T18:14:40.839Z"
   },
   {
    "duration": 47,
    "start_time": "2025-04-15T18:15:36.465Z"
   },
   {
    "duration": 78,
    "start_time": "2025-04-15T18:16:19.605Z"
   },
   {
    "duration": 291,
    "start_time": "2025-04-15T18:16:22.757Z"
   },
   {
    "duration": 288,
    "start_time": "2025-04-15T18:28:25.694Z"
   },
   {
    "duration": 19,
    "start_time": "2025-04-15T18:29:05.621Z"
   },
   {
    "duration": 56,
    "start_time": "2025-04-15T18:29:35.465Z"
   },
   {
    "duration": 252,
    "start_time": "2025-04-15T18:30:01.257Z"
   },
   {
    "duration": 110,
    "start_time": "2025-04-15T18:30:39.545Z"
   },
   {
    "duration": 310,
    "start_time": "2025-04-15T18:31:11.693Z"
   },
   {
    "duration": 724,
    "start_time": "2025-04-16T14:50:33.860Z"
   }
  ],
  "kernelspec": {
   "display_name": "Python 3 (ipykernel)",
   "language": "python",
   "name": "python3"
  },
  "language_info": {
   "codemirror_mode": {
    "name": "ipython",
    "version": 3
   },
   "file_extension": ".py",
   "mimetype": "text/x-python",
   "name": "python",
   "nbconvert_exporter": "python",
   "pygments_lexer": "ipython3",
   "version": "3.9.19"
  },
  "toc": {
   "base_numbering": 1,
   "nav_menu": {},
   "number_sections": true,
   "sideBar": true,
   "skip_h1_title": true,
   "title_cell": "Table of Contents",
   "title_sidebar": "Contents",
   "toc_cell": false,
   "toc_position": {},
   "toc_section_display": true,
   "toc_window_display": false
  }
 },
 "nbformat": 4,
 "nbformat_minor": 2
}
